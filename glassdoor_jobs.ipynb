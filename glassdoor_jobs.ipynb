{
  "nbformat": 4,
  "nbformat_minor": 0,
  "metadata": {
    "colab": {
      "name": "glassdoor_jobs.ipynb",
      "provenance": [],
      "authorship_tag": "ABX9TyPsgV/cvtCA2myExlDAzQy/",
      "include_colab_link": true
    },
    "kernelspec": {
      "name": "python3",
      "display_name": "Python 3"
    }
  },
  "cells": [
    {
      "cell_type": "markdown",
      "metadata": {
        "id": "view-in-github",
        "colab_type": "text"
      },
      "source": [
        "<a href=\"https://colab.research.google.com/github/sundarbsb/machine-Learning/blob/master/glassdoor_jobs.ipynb\" target=\"_parent\"><img src=\"https://colab.research.google.com/assets/colab-badge.svg\" alt=\"Open In Colab\"/></a>"
      ]
    },
    {
      "cell_type": "markdown",
      "metadata": {
        "id": "i749rI-sDtqJ",
        "colab_type": "text"
      },
      "source": [
        "**DATA CLEANING**"
      ]
    },
    {
      "cell_type": "code",
      "metadata": {
        "id": "DtIzAhLirQF9",
        "colab_type": "code",
        "colab": {
          "base_uri": "https://localhost:8080/",
          "height": 36
        },
        "outputId": "a4b82385-f949-4520-f1f8-3693bf09a0f3"
      },
      "source": [
        "import pandas as pd\n",
        "data=pd.read_csv(\"/content/glassdoor_jobs.csv\")\n",
        "data.shape"
      ],
      "execution_count": 1,
      "outputs": [
        {
          "output_type": "execute_result",
          "data": {
            "text/plain": [
              "(956, 15)"
            ]
          },
          "metadata": {
            "tags": []
          },
          "execution_count": 1
        }
      ]
    },
    {
      "cell_type": "code",
      "metadata": {
        "id": "agXVN_A7wpG4",
        "colab_type": "code",
        "colab": {}
      },
      "source": [
        "data.drop(labels='Unnamed: 0', axis='columns', inplace=True)\n",
        "data=data[data['Salary Estimate'] != '-1']\n",
        "# data.head()"
      ],
      "execution_count": 2,
      "outputs": []
    },
    {
      "cell_type": "code",
      "metadata": {
        "id": "EKUcymsG3uRI",
        "colab_type": "code",
        "colab": {
          "base_uri": "https://localhost:8080/",
          "height": 300
        },
        "outputId": "314895d1-0c22-4595-d55f-8a8f989d927c"
      },
      "source": [
        "# data.info()\n",
        "data.describe()"
      ],
      "execution_count": 3,
      "outputs": [
        {
          "output_type": "execute_result",
          "data": {
            "text/html": [
              "<div>\n",
              "<style scoped>\n",
              "    .dataframe tbody tr th:only-of-type {\n",
              "        vertical-align: middle;\n",
              "    }\n",
              "\n",
              "    .dataframe tbody tr th {\n",
              "        vertical-align: top;\n",
              "    }\n",
              "\n",
              "    .dataframe thead th {\n",
              "        text-align: right;\n",
              "    }\n",
              "</style>\n",
              "<table border=\"1\" class=\"dataframe\">\n",
              "  <thead>\n",
              "    <tr style=\"text-align: right;\">\n",
              "      <th></th>\n",
              "      <th>Rating</th>\n",
              "      <th>Founded</th>\n",
              "    </tr>\n",
              "  </thead>\n",
              "  <tbody>\n",
              "    <tr>\n",
              "      <th>count</th>\n",
              "      <td>742.000000</td>\n",
              "      <td>742.000000</td>\n",
              "    </tr>\n",
              "    <tr>\n",
              "      <th>mean</th>\n",
              "      <td>3.618868</td>\n",
              "      <td>1837.154987</td>\n",
              "    </tr>\n",
              "    <tr>\n",
              "      <th>std</th>\n",
              "      <td>0.801210</td>\n",
              "      <td>497.183763</td>\n",
              "    </tr>\n",
              "    <tr>\n",
              "      <th>min</th>\n",
              "      <td>-1.000000</td>\n",
              "      <td>-1.000000</td>\n",
              "    </tr>\n",
              "    <tr>\n",
              "      <th>25%</th>\n",
              "      <td>3.300000</td>\n",
              "      <td>1939.000000</td>\n",
              "    </tr>\n",
              "    <tr>\n",
              "      <th>50%</th>\n",
              "      <td>3.700000</td>\n",
              "      <td>1988.000000</td>\n",
              "    </tr>\n",
              "    <tr>\n",
              "      <th>75%</th>\n",
              "      <td>4.000000</td>\n",
              "      <td>2007.000000</td>\n",
              "    </tr>\n",
              "    <tr>\n",
              "      <th>max</th>\n",
              "      <td>5.000000</td>\n",
              "      <td>2019.000000</td>\n",
              "    </tr>\n",
              "  </tbody>\n",
              "</table>\n",
              "</div>"
            ],
            "text/plain": [
              "           Rating      Founded\n",
              "count  742.000000   742.000000\n",
              "mean     3.618868  1837.154987\n",
              "std      0.801210   497.183763\n",
              "min     -1.000000    -1.000000\n",
              "25%      3.300000  1939.000000\n",
              "50%      3.700000  1988.000000\n",
              "75%      4.000000  2007.000000\n",
              "max      5.000000  2019.000000"
            ]
          },
          "metadata": {
            "tags": []
          },
          "execution_count": 3
        }
      ]
    },
    {
      "cell_type": "code",
      "metadata": {
        "id": "pBkBZi3VyVZu",
        "colab_type": "code",
        "colab": {
          "base_uri": "https://localhost:8080/",
          "height": 241
        },
        "outputId": "505595de-4287-4810-b732-a6e1463fe107"
      },
      "source": [
        "data['Job Title'].value_counts()"
      ],
      "execution_count": 4,
      "outputs": [
        {
          "output_type": "execute_result",
          "data": {
            "text/plain": [
              "Data Scientist                                                 131\n",
              "Data Engineer                                                   53\n",
              "Senior Data Scientist                                           34\n",
              "Data Analyst                                                    15\n",
              "Senior Data Engineer                                            14\n",
              "                                                              ... \n",
              "SQL Data Engineer                                                1\n",
              "Manager, Safety Scientist, Medical Safety & Risk Management      1\n",
              "Director, Data Science                                           1\n",
              "Sr. Data Engineer | Big Data SaaS Pipeline                       1\n",
              "Senior Quantitative Analyst                                      1\n",
              "Name: Job Title, Length: 264, dtype: int64"
            ]
          },
          "metadata": {
            "tags": []
          },
          "execution_count": 4
        }
      ]
    },
    {
      "cell_type": "code",
      "metadata": {
        "id": "wE-pxECTw6NJ",
        "colab_type": "code",
        "colab": {}
      },
      "source": [
        "\n",
        "def jobtitle_c(title):\n",
        "  if 'data scientist' in title.lower():\n",
        "    return 'data scientist'\n",
        "  elif 'data engineer' in title.lower():\n",
        "    return 'data engineer'\n",
        "  elif 'analyst' in title.lower():\n",
        "    return 'analyst'\n",
        "  elif 'machine learning' in title.lower():\n",
        "    return 'mle'\n",
        "  elif 'manager' in title.lower():\n",
        "    return 'manager'\n",
        "  elif 'director' in title.lower():\n",
        "    return 'director'\n",
        "  else:\n",
        "    return 'na'\n",
        "\n",
        "def job_seniority(title):\n",
        "  if 'sr' in title.lower() or 'senior' in title.lower() or 'sr.' in title.lower() or 'lead' in title.lower() or 'principal' in title.lower():\n",
        "    return 'senior'\n",
        "  elif 'jr' in title.lower() or 'jr.' in title.lower():\n",
        "    return 'jr'\n",
        "  else:\n",
        "    return 'na'\n",
        "\n",
        "\n"
      ],
      "execution_count": 5,
      "outputs": []
    },
    {
      "cell_type": "code",
      "metadata": {
        "id": "5tyAl_2ixMBI",
        "colab_type": "code",
        "colab": {
          "base_uri": "https://localhost:8080/",
          "height": 241
        },
        "outputId": "e789d510-70d2-435b-eaf6-0354bd4278e7"
      },
      "source": [
        "data['job_title_simplified'] = data['Job Title'].apply(jobtitle_c)\n",
        "data['seniority']=data['Job Title'].apply(job_seniority)\n",
        "print(data['job_title_simplified'].value_counts())\n",
        "print(data['seniority'].value_counts())"
      ],
      "execution_count": 6,
      "outputs": [
        {
          "output_type": "stream",
          "text": [
            "data scientist    279\n",
            "na                184\n",
            "data engineer     119\n",
            "analyst           102\n",
            "manager            22\n",
            "mle                22\n",
            "director           14\n",
            "Name: job_title_simplified, dtype: int64\n",
            "na        520\n",
            "senior    220\n",
            "jr          2\n",
            "Name: seniority, dtype: int64\n"
          ],
          "name": "stdout"
        }
      ]
    },
    {
      "cell_type": "code",
      "metadata": {
        "id": "-08-Wj_z4s0J",
        "colab_type": "code",
        "colab": {}
      },
      "source": [
        "drop_columns=['Job Title']\n",
        "data=data.drop(drop_columns,axis=1)"
      ],
      "execution_count": 7,
      "outputs": []
    },
    {
      "cell_type": "code",
      "metadata": {
        "id": "cVXdepN11rXZ",
        "colab_type": "code",
        "colab": {
          "base_uri": "https://localhost:8080/",
          "height": 521
        },
        "outputId": "f6a7fcce-69a0-465d-f5f4-8892543d2ddb"
      },
      "source": [
        "data.head()"
      ],
      "execution_count": 8,
      "outputs": [
        {
          "output_type": "execute_result",
          "data": {
            "text/html": [
              "<div>\n",
              "<style scoped>\n",
              "    .dataframe tbody tr th:only-of-type {\n",
              "        vertical-align: middle;\n",
              "    }\n",
              "\n",
              "    .dataframe tbody tr th {\n",
              "        vertical-align: top;\n",
              "    }\n",
              "\n",
              "    .dataframe thead th {\n",
              "        text-align: right;\n",
              "    }\n",
              "</style>\n",
              "<table border=\"1\" class=\"dataframe\">\n",
              "  <thead>\n",
              "    <tr style=\"text-align: right;\">\n",
              "      <th></th>\n",
              "      <th>Salary Estimate</th>\n",
              "      <th>Job Description</th>\n",
              "      <th>Rating</th>\n",
              "      <th>Company Name</th>\n",
              "      <th>Location</th>\n",
              "      <th>Headquarters</th>\n",
              "      <th>Size</th>\n",
              "      <th>Founded</th>\n",
              "      <th>Type of ownership</th>\n",
              "      <th>Industry</th>\n",
              "      <th>Sector</th>\n",
              "      <th>Revenue</th>\n",
              "      <th>Competitors</th>\n",
              "      <th>job_title_simplified</th>\n",
              "      <th>seniority</th>\n",
              "    </tr>\n",
              "  </thead>\n",
              "  <tbody>\n",
              "    <tr>\n",
              "      <th>0</th>\n",
              "      <td>$53K-$91K (Glassdoor est.)</td>\n",
              "      <td>Data Scientist\\nLocation: Albuquerque, NM\\nEdu...</td>\n",
              "      <td>3.8</td>\n",
              "      <td>Tecolote Research\\n3.8</td>\n",
              "      <td>Albuquerque, NM</td>\n",
              "      <td>Goleta, CA</td>\n",
              "      <td>501 to 1000 employees</td>\n",
              "      <td>1973</td>\n",
              "      <td>Company - Private</td>\n",
              "      <td>Aerospace &amp; Defense</td>\n",
              "      <td>Aerospace &amp; Defense</td>\n",
              "      <td>$50 to $100 million (USD)</td>\n",
              "      <td>-1</td>\n",
              "      <td>data scientist</td>\n",
              "      <td>na</td>\n",
              "    </tr>\n",
              "    <tr>\n",
              "      <th>1</th>\n",
              "      <td>$63K-$112K (Glassdoor est.)</td>\n",
              "      <td>What You Will Do:\\n\\nI. General Summary\\n\\nThe...</td>\n",
              "      <td>3.4</td>\n",
              "      <td>University of Maryland Medical System\\n3.4</td>\n",
              "      <td>Linthicum, MD</td>\n",
              "      <td>Baltimore, MD</td>\n",
              "      <td>10000+ employees</td>\n",
              "      <td>1984</td>\n",
              "      <td>Other Organization</td>\n",
              "      <td>Health Care Services &amp; Hospitals</td>\n",
              "      <td>Health Care</td>\n",
              "      <td>$2 to $5 billion (USD)</td>\n",
              "      <td>-1</td>\n",
              "      <td>data scientist</td>\n",
              "      <td>na</td>\n",
              "    </tr>\n",
              "    <tr>\n",
              "      <th>2</th>\n",
              "      <td>$80K-$90K (Glassdoor est.)</td>\n",
              "      <td>KnowBe4, Inc. is a high growth information sec...</td>\n",
              "      <td>4.8</td>\n",
              "      <td>KnowBe4\\n4.8</td>\n",
              "      <td>Clearwater, FL</td>\n",
              "      <td>Clearwater, FL</td>\n",
              "      <td>501 to 1000 employees</td>\n",
              "      <td>2010</td>\n",
              "      <td>Company - Private</td>\n",
              "      <td>Security Services</td>\n",
              "      <td>Business Services</td>\n",
              "      <td>$100 to $500 million (USD)</td>\n",
              "      <td>-1</td>\n",
              "      <td>data scientist</td>\n",
              "      <td>na</td>\n",
              "    </tr>\n",
              "    <tr>\n",
              "      <th>3</th>\n",
              "      <td>$56K-$97K (Glassdoor est.)</td>\n",
              "      <td>*Organization and Job ID**\\nJob ID: 310709\\n\\n...</td>\n",
              "      <td>3.8</td>\n",
              "      <td>PNNL\\n3.8</td>\n",
              "      <td>Richland, WA</td>\n",
              "      <td>Richland, WA</td>\n",
              "      <td>1001 to 5000 employees</td>\n",
              "      <td>1965</td>\n",
              "      <td>Government</td>\n",
              "      <td>Energy</td>\n",
              "      <td>Oil, Gas, Energy &amp; Utilities</td>\n",
              "      <td>$500 million to $1 billion (USD)</td>\n",
              "      <td>Oak Ridge National Laboratory, National Renewa...</td>\n",
              "      <td>data scientist</td>\n",
              "      <td>na</td>\n",
              "    </tr>\n",
              "    <tr>\n",
              "      <th>4</th>\n",
              "      <td>$86K-$143K (Glassdoor est.)</td>\n",
              "      <td>Data Scientist\\nAffinity Solutions / Marketing...</td>\n",
              "      <td>2.9</td>\n",
              "      <td>Affinity Solutions\\n2.9</td>\n",
              "      <td>New York, NY</td>\n",
              "      <td>New York, NY</td>\n",
              "      <td>51 to 200 employees</td>\n",
              "      <td>1998</td>\n",
              "      <td>Company - Private</td>\n",
              "      <td>Advertising &amp; Marketing</td>\n",
              "      <td>Business Services</td>\n",
              "      <td>Unknown / Non-Applicable</td>\n",
              "      <td>Commerce Signals, Cardlytics, Yodlee</td>\n",
              "      <td>data scientist</td>\n",
              "      <td>na</td>\n",
              "    </tr>\n",
              "  </tbody>\n",
              "</table>\n",
              "</div>"
            ],
            "text/plain": [
              "               Salary Estimate  ... seniority\n",
              "0   $53K-$91K (Glassdoor est.)  ...        na\n",
              "1  $63K-$112K (Glassdoor est.)  ...        na\n",
              "2   $80K-$90K (Glassdoor est.)  ...        na\n",
              "3   $56K-$97K (Glassdoor est.)  ...        na\n",
              "4  $86K-$143K (Glassdoor est.)  ...        na\n",
              "\n",
              "[5 rows x 15 columns]"
            ]
          },
          "metadata": {
            "tags": []
          },
          "execution_count": 8
        }
      ]
    },
    {
      "cell_type": "code",
      "metadata": {
        "id": "Qk4i0TAo6xRu",
        "colab_type": "code",
        "colab": {
          "base_uri": "https://localhost:8080/",
          "height": 241
        },
        "outputId": "6daaa5e5-4b28-4f5e-f95f-07d9e7d61119"
      },
      "source": [
        "salary=data['Salary Estimate'].apply(lambda x: x.split(\"(\")[0])\n",
        "salary"
      ],
      "execution_count": 9,
      "outputs": [
        {
          "output_type": "execute_result",
          "data": {
            "text/plain": [
              "0       $53K-$91K \n",
              "1      $63K-$112K \n",
              "2       $80K-$90K \n",
              "3       $56K-$97K \n",
              "4      $86K-$143K \n",
              "          ...     \n",
              "950    $58K-$111K \n",
              "951    $72K-$133K \n",
              "952     $56K-$91K \n",
              "953    $95K-$160K \n",
              "955    $61K-$126K \n",
              "Name: Salary Estimate, Length: 742, dtype: object"
            ]
          },
          "metadata": {
            "tags": []
          },
          "execution_count": 9
        }
      ]
    },
    {
      "cell_type": "code",
      "metadata": {
        "id": "SQuO3chZ7EV8",
        "colab_type": "code",
        "colab": {}
      },
      "source": [
        "salary=salary.apply(lambda x: x.replace(\"$\",\"\").replace(\"K\",\"\"))"
      ],
      "execution_count": 10,
      "outputs": []
    },
    {
      "cell_type": "code",
      "metadata": {
        "id": "MRl7gBo28SgQ",
        "colab_type": "code",
        "colab": {
          "base_uri": "https://localhost:8080/",
          "height": 185
        },
        "outputId": "6a26dd1d-d71e-4d76-f2b1-05285d74e88b"
      },
      "source": [
        "print(\"Length of Salary: \",len(salary.unique()))\n",
        "salary.unique()[380:]"
      ],
      "execution_count": 11,
      "outputs": [
        {
          "output_type": "stream",
          "text": [
            "Length of Salary:  416\n"
          ],
          "name": "stdout"
        },
        {
          "output_type": "execute_result",
          "data": {
            "text/plain": [
              "array(['84-153 ', '44-73 ', '40-87 ', '72-142 ', '74-137 ', '57-109 ',\n",
              "       '136-208 ', '171-272 ', '65-126 ', '118-228 ', '113-182 ',\n",
              "       '58-104 ', '58-108 ', '81-161 ', '115-220 ', '71-144 ', '32-57 ',\n",
              "       '79-136 ', '48-113 ', '27-47 Per Hour', '68-125 ', '39-67 ',\n",
              "       '71-135 ', '61-123 ', '87-141 ', '71-121 ', '72-121 ', '51-88 ',\n",
              "       '101-141 ', '79-127 ', '81-132 ',\n",
              "       'Employer Provided Salary:120-140', '65-113 ', '59-125 ',\n",
              "       '80-142 ', '62-113 '], dtype=object)"
            ]
          },
          "metadata": {
            "tags": []
          },
          "execution_count": 11
        }
      ]
    },
    {
      "cell_type": "code",
      "metadata": {
        "id": "g6e4v9EX867E",
        "colab_type": "code",
        "colab": {}
      },
      "source": [
        "data['salary_per_hour'] = salary.apply(lambda x: 1 if \"per hour\" in x.lower() else 0)\n",
        "data['emp_provided_salary'] = salary.apply(lambda x: 1 if \"employer provided salary\" in x.lower() else 0)\n",
        "salary = salary.apply(lambda x: x.lower().replace(\"per hour\", \"\").replace(\"employer provided salary:\", \"\").replace(\" \",\"\"))\n",
        "data[\"min_salary\"] = salary.apply(lambda x: int(x.split(\"-\")[0]))\n",
        "data[\"max_salary\"] = salary.apply(lambda x: int(x.split(\"-\")[1]))\n",
        "data[\"average_salary\"] = (data[\"min_salary\"]+data[\"max_salary\"])/2"
      ],
      "execution_count": 12,
      "outputs": []
    },
    {
      "cell_type": "code",
      "metadata": {
        "id": "qLnvN8i4AanU",
        "colab_type": "code",
        "colab": {
          "base_uri": "https://localhost:8080/",
          "height": 521
        },
        "outputId": "6d7a984d-d6da-429c-d9d2-5d06052525b6"
      },
      "source": [
        "data=data.drop(['Salary Estimate'],axis=1)\n",
        "data.head()"
      ],
      "execution_count": 13,
      "outputs": [
        {
          "output_type": "execute_result",
          "data": {
            "text/html": [
              "<div>\n",
              "<style scoped>\n",
              "    .dataframe tbody tr th:only-of-type {\n",
              "        vertical-align: middle;\n",
              "    }\n",
              "\n",
              "    .dataframe tbody tr th {\n",
              "        vertical-align: top;\n",
              "    }\n",
              "\n",
              "    .dataframe thead th {\n",
              "        text-align: right;\n",
              "    }\n",
              "</style>\n",
              "<table border=\"1\" class=\"dataframe\">\n",
              "  <thead>\n",
              "    <tr style=\"text-align: right;\">\n",
              "      <th></th>\n",
              "      <th>Job Description</th>\n",
              "      <th>Rating</th>\n",
              "      <th>Company Name</th>\n",
              "      <th>Location</th>\n",
              "      <th>Headquarters</th>\n",
              "      <th>Size</th>\n",
              "      <th>Founded</th>\n",
              "      <th>Type of ownership</th>\n",
              "      <th>Industry</th>\n",
              "      <th>Sector</th>\n",
              "      <th>Revenue</th>\n",
              "      <th>Competitors</th>\n",
              "      <th>job_title_simplified</th>\n",
              "      <th>seniority</th>\n",
              "      <th>salary_per_hour</th>\n",
              "      <th>emp_provided_salary</th>\n",
              "      <th>min_salary</th>\n",
              "      <th>max_salary</th>\n",
              "      <th>average_salary</th>\n",
              "    </tr>\n",
              "  </thead>\n",
              "  <tbody>\n",
              "    <tr>\n",
              "      <th>0</th>\n",
              "      <td>Data Scientist\\nLocation: Albuquerque, NM\\nEdu...</td>\n",
              "      <td>3.8</td>\n",
              "      <td>Tecolote Research\\n3.8</td>\n",
              "      <td>Albuquerque, NM</td>\n",
              "      <td>Goleta, CA</td>\n",
              "      <td>501 to 1000 employees</td>\n",
              "      <td>1973</td>\n",
              "      <td>Company - Private</td>\n",
              "      <td>Aerospace &amp; Defense</td>\n",
              "      <td>Aerospace &amp; Defense</td>\n",
              "      <td>$50 to $100 million (USD)</td>\n",
              "      <td>-1</td>\n",
              "      <td>data scientist</td>\n",
              "      <td>na</td>\n",
              "      <td>0</td>\n",
              "      <td>0</td>\n",
              "      <td>53</td>\n",
              "      <td>91</td>\n",
              "      <td>72.0</td>\n",
              "    </tr>\n",
              "    <tr>\n",
              "      <th>1</th>\n",
              "      <td>What You Will Do:\\n\\nI. General Summary\\n\\nThe...</td>\n",
              "      <td>3.4</td>\n",
              "      <td>University of Maryland Medical System\\n3.4</td>\n",
              "      <td>Linthicum, MD</td>\n",
              "      <td>Baltimore, MD</td>\n",
              "      <td>10000+ employees</td>\n",
              "      <td>1984</td>\n",
              "      <td>Other Organization</td>\n",
              "      <td>Health Care Services &amp; Hospitals</td>\n",
              "      <td>Health Care</td>\n",
              "      <td>$2 to $5 billion (USD)</td>\n",
              "      <td>-1</td>\n",
              "      <td>data scientist</td>\n",
              "      <td>na</td>\n",
              "      <td>0</td>\n",
              "      <td>0</td>\n",
              "      <td>63</td>\n",
              "      <td>112</td>\n",
              "      <td>87.5</td>\n",
              "    </tr>\n",
              "    <tr>\n",
              "      <th>2</th>\n",
              "      <td>KnowBe4, Inc. is a high growth information sec...</td>\n",
              "      <td>4.8</td>\n",
              "      <td>KnowBe4\\n4.8</td>\n",
              "      <td>Clearwater, FL</td>\n",
              "      <td>Clearwater, FL</td>\n",
              "      <td>501 to 1000 employees</td>\n",
              "      <td>2010</td>\n",
              "      <td>Company - Private</td>\n",
              "      <td>Security Services</td>\n",
              "      <td>Business Services</td>\n",
              "      <td>$100 to $500 million (USD)</td>\n",
              "      <td>-1</td>\n",
              "      <td>data scientist</td>\n",
              "      <td>na</td>\n",
              "      <td>0</td>\n",
              "      <td>0</td>\n",
              "      <td>80</td>\n",
              "      <td>90</td>\n",
              "      <td>85.0</td>\n",
              "    </tr>\n",
              "    <tr>\n",
              "      <th>3</th>\n",
              "      <td>*Organization and Job ID**\\nJob ID: 310709\\n\\n...</td>\n",
              "      <td>3.8</td>\n",
              "      <td>PNNL\\n3.8</td>\n",
              "      <td>Richland, WA</td>\n",
              "      <td>Richland, WA</td>\n",
              "      <td>1001 to 5000 employees</td>\n",
              "      <td>1965</td>\n",
              "      <td>Government</td>\n",
              "      <td>Energy</td>\n",
              "      <td>Oil, Gas, Energy &amp; Utilities</td>\n",
              "      <td>$500 million to $1 billion (USD)</td>\n",
              "      <td>Oak Ridge National Laboratory, National Renewa...</td>\n",
              "      <td>data scientist</td>\n",
              "      <td>na</td>\n",
              "      <td>0</td>\n",
              "      <td>0</td>\n",
              "      <td>56</td>\n",
              "      <td>97</td>\n",
              "      <td>76.5</td>\n",
              "    </tr>\n",
              "    <tr>\n",
              "      <th>4</th>\n",
              "      <td>Data Scientist\\nAffinity Solutions / Marketing...</td>\n",
              "      <td>2.9</td>\n",
              "      <td>Affinity Solutions\\n2.9</td>\n",
              "      <td>New York, NY</td>\n",
              "      <td>New York, NY</td>\n",
              "      <td>51 to 200 employees</td>\n",
              "      <td>1998</td>\n",
              "      <td>Company - Private</td>\n",
              "      <td>Advertising &amp; Marketing</td>\n",
              "      <td>Business Services</td>\n",
              "      <td>Unknown / Non-Applicable</td>\n",
              "      <td>Commerce Signals, Cardlytics, Yodlee</td>\n",
              "      <td>data scientist</td>\n",
              "      <td>na</td>\n",
              "      <td>0</td>\n",
              "      <td>0</td>\n",
              "      <td>86</td>\n",
              "      <td>143</td>\n",
              "      <td>114.5</td>\n",
              "    </tr>\n",
              "  </tbody>\n",
              "</table>\n",
              "</div>"
            ],
            "text/plain": [
              "                                     Job Description  ...  average_salary\n",
              "0  Data Scientist\\nLocation: Albuquerque, NM\\nEdu...  ...            72.0\n",
              "1  What You Will Do:\\n\\nI. General Summary\\n\\nThe...  ...            87.5\n",
              "2  KnowBe4, Inc. is a high growth information sec...  ...            85.0\n",
              "3  *Organization and Job ID**\\nJob ID: 310709\\n\\n...  ...            76.5\n",
              "4  Data Scientist\\nAffinity Solutions / Marketing...  ...           114.5\n",
              "\n",
              "[5 rows x 19 columns]"
            ]
          },
          "metadata": {
            "tags": []
          },
          "execution_count": 13
        }
      ]
    },
    {
      "cell_type": "code",
      "metadata": {
        "id": "LQmkdOJDDG31",
        "colab_type": "code",
        "colab": {
          "base_uri": "https://localhost:8080/",
          "height": 521
        },
        "outputId": "87c4fe09-eecc-4b99-d6c3-5e5ac90059e6"
      },
      "source": [
        "data['updated_company_name']=data['Company Name'].apply(lambda x: x.split(\"\\n\")[0])\n",
        "data=data.drop(['Company Name'], axis=1)\n",
        "data.head()"
      ],
      "execution_count": 14,
      "outputs": [
        {
          "output_type": "execute_result",
          "data": {
            "text/html": [
              "<div>\n",
              "<style scoped>\n",
              "    .dataframe tbody tr th:only-of-type {\n",
              "        vertical-align: middle;\n",
              "    }\n",
              "\n",
              "    .dataframe tbody tr th {\n",
              "        vertical-align: top;\n",
              "    }\n",
              "\n",
              "    .dataframe thead th {\n",
              "        text-align: right;\n",
              "    }\n",
              "</style>\n",
              "<table border=\"1\" class=\"dataframe\">\n",
              "  <thead>\n",
              "    <tr style=\"text-align: right;\">\n",
              "      <th></th>\n",
              "      <th>Job Description</th>\n",
              "      <th>Rating</th>\n",
              "      <th>Location</th>\n",
              "      <th>Headquarters</th>\n",
              "      <th>Size</th>\n",
              "      <th>Founded</th>\n",
              "      <th>Type of ownership</th>\n",
              "      <th>Industry</th>\n",
              "      <th>Sector</th>\n",
              "      <th>Revenue</th>\n",
              "      <th>Competitors</th>\n",
              "      <th>job_title_simplified</th>\n",
              "      <th>seniority</th>\n",
              "      <th>salary_per_hour</th>\n",
              "      <th>emp_provided_salary</th>\n",
              "      <th>min_salary</th>\n",
              "      <th>max_salary</th>\n",
              "      <th>average_salary</th>\n",
              "      <th>updated_company_name</th>\n",
              "    </tr>\n",
              "  </thead>\n",
              "  <tbody>\n",
              "    <tr>\n",
              "      <th>0</th>\n",
              "      <td>Data Scientist\\nLocation: Albuquerque, NM\\nEdu...</td>\n",
              "      <td>3.8</td>\n",
              "      <td>Albuquerque, NM</td>\n",
              "      <td>Goleta, CA</td>\n",
              "      <td>501 to 1000 employees</td>\n",
              "      <td>1973</td>\n",
              "      <td>Company - Private</td>\n",
              "      <td>Aerospace &amp; Defense</td>\n",
              "      <td>Aerospace &amp; Defense</td>\n",
              "      <td>$50 to $100 million (USD)</td>\n",
              "      <td>-1</td>\n",
              "      <td>data scientist</td>\n",
              "      <td>na</td>\n",
              "      <td>0</td>\n",
              "      <td>0</td>\n",
              "      <td>53</td>\n",
              "      <td>91</td>\n",
              "      <td>72.0</td>\n",
              "      <td>Tecolote Research</td>\n",
              "    </tr>\n",
              "    <tr>\n",
              "      <th>1</th>\n",
              "      <td>What You Will Do:\\n\\nI. General Summary\\n\\nThe...</td>\n",
              "      <td>3.4</td>\n",
              "      <td>Linthicum, MD</td>\n",
              "      <td>Baltimore, MD</td>\n",
              "      <td>10000+ employees</td>\n",
              "      <td>1984</td>\n",
              "      <td>Other Organization</td>\n",
              "      <td>Health Care Services &amp; Hospitals</td>\n",
              "      <td>Health Care</td>\n",
              "      <td>$2 to $5 billion (USD)</td>\n",
              "      <td>-1</td>\n",
              "      <td>data scientist</td>\n",
              "      <td>na</td>\n",
              "      <td>0</td>\n",
              "      <td>0</td>\n",
              "      <td>63</td>\n",
              "      <td>112</td>\n",
              "      <td>87.5</td>\n",
              "      <td>University of Maryland Medical System</td>\n",
              "    </tr>\n",
              "    <tr>\n",
              "      <th>2</th>\n",
              "      <td>KnowBe4, Inc. is a high growth information sec...</td>\n",
              "      <td>4.8</td>\n",
              "      <td>Clearwater, FL</td>\n",
              "      <td>Clearwater, FL</td>\n",
              "      <td>501 to 1000 employees</td>\n",
              "      <td>2010</td>\n",
              "      <td>Company - Private</td>\n",
              "      <td>Security Services</td>\n",
              "      <td>Business Services</td>\n",
              "      <td>$100 to $500 million (USD)</td>\n",
              "      <td>-1</td>\n",
              "      <td>data scientist</td>\n",
              "      <td>na</td>\n",
              "      <td>0</td>\n",
              "      <td>0</td>\n",
              "      <td>80</td>\n",
              "      <td>90</td>\n",
              "      <td>85.0</td>\n",
              "      <td>KnowBe4</td>\n",
              "    </tr>\n",
              "    <tr>\n",
              "      <th>3</th>\n",
              "      <td>*Organization and Job ID**\\nJob ID: 310709\\n\\n...</td>\n",
              "      <td>3.8</td>\n",
              "      <td>Richland, WA</td>\n",
              "      <td>Richland, WA</td>\n",
              "      <td>1001 to 5000 employees</td>\n",
              "      <td>1965</td>\n",
              "      <td>Government</td>\n",
              "      <td>Energy</td>\n",
              "      <td>Oil, Gas, Energy &amp; Utilities</td>\n",
              "      <td>$500 million to $1 billion (USD)</td>\n",
              "      <td>Oak Ridge National Laboratory, National Renewa...</td>\n",
              "      <td>data scientist</td>\n",
              "      <td>na</td>\n",
              "      <td>0</td>\n",
              "      <td>0</td>\n",
              "      <td>56</td>\n",
              "      <td>97</td>\n",
              "      <td>76.5</td>\n",
              "      <td>PNNL</td>\n",
              "    </tr>\n",
              "    <tr>\n",
              "      <th>4</th>\n",
              "      <td>Data Scientist\\nAffinity Solutions / Marketing...</td>\n",
              "      <td>2.9</td>\n",
              "      <td>New York, NY</td>\n",
              "      <td>New York, NY</td>\n",
              "      <td>51 to 200 employees</td>\n",
              "      <td>1998</td>\n",
              "      <td>Company - Private</td>\n",
              "      <td>Advertising &amp; Marketing</td>\n",
              "      <td>Business Services</td>\n",
              "      <td>Unknown / Non-Applicable</td>\n",
              "      <td>Commerce Signals, Cardlytics, Yodlee</td>\n",
              "      <td>data scientist</td>\n",
              "      <td>na</td>\n",
              "      <td>0</td>\n",
              "      <td>0</td>\n",
              "      <td>86</td>\n",
              "      <td>143</td>\n",
              "      <td>114.5</td>\n",
              "      <td>Affinity Solutions</td>\n",
              "    </tr>\n",
              "  </tbody>\n",
              "</table>\n",
              "</div>"
            ],
            "text/plain": [
              "                                     Job Description  ...                   updated_company_name\n",
              "0  Data Scientist\\nLocation: Albuquerque, NM\\nEdu...  ...                      Tecolote Research\n",
              "1  What You Will Do:\\n\\nI. General Summary\\n\\nThe...  ...  University of Maryland Medical System\n",
              "2  KnowBe4, Inc. is a high growth information sec...  ...                                KnowBe4\n",
              "3  *Organization and Job ID**\\nJob ID: 310709\\n\\n...  ...                                   PNNL\n",
              "4  Data Scientist\\nAffinity Solutions / Marketing...  ...                     Affinity Solutions\n",
              "\n",
              "[5 rows x 19 columns]"
            ]
          },
          "metadata": {
            "tags": []
          },
          "execution_count": 14
        }
      ]
    },
    {
      "cell_type": "code",
      "metadata": {
        "id": "yh97ani-D64N",
        "colab_type": "code",
        "colab": {}
      },
      "source": [
        "data['updated_competitors']=data['Competitors'].apply(lambda x: len(x.split(\",\"))if \",\"in x else 0)\n",
        "data['updated_competitors'].value_counts()\n",
        "data=data.drop(['Competitors'],axis=1)"
      ],
      "execution_count": 15,
      "outputs": []
    },
    {
      "cell_type": "code",
      "metadata": {
        "id": "MqglW90fF-YF",
        "colab_type": "code",
        "colab": {
          "base_uri": "https://localhost:8080/",
          "height": 111
        },
        "outputId": "4b6aef5e-15e4-4c57-ad39-8b4bcb157efc"
      },
      "source": [
        "data[\"job_state\"] = data[\"Location\"].apply(lambda x: x.split(',')[1])\n",
        "data=data.drop(['Location'],axis=1)\n",
        "data['job_state'].unique()"
      ],
      "execution_count": 16,
      "outputs": [
        {
          "output_type": "execute_result",
          "data": {
            "text/plain": [
              "array([' NM', ' MD', ' FL', ' WA', ' NY', ' TX', ' CA', ' VA', ' MA',\n",
              "       ' NJ', ' CO', ' IL', ' KY', ' OR', ' CT', ' MI', ' DC', ' OH',\n",
              "       ' AL', ' MO', ' PA', ' GA', ' IN', ' LA', ' WI', ' NC', ' AZ',\n",
              "       ' NE', ' MN', ' Los Angeles', ' UT', ' TN', ' DE', ' ID', ' RI',\n",
              "       ' IA', ' SC', ' KS'], dtype=object)"
            ]
          },
          "metadata": {
            "tags": []
          },
          "execution_count": 16
        }
      ]
    },
    {
      "cell_type": "code",
      "metadata": {
        "id": "yFjqJqiIGNBr",
        "colab_type": "code",
        "colab": {
          "base_uri": "https://localhost:8080/",
          "height": 129
        },
        "outputId": "f07411cb-9557-4c13-af5f-c54afc62954b"
      },
      "source": [
        "data['job_state'] = data['job_state'].apply(lambda x: x.strip() if x.strip().lower() != 'los angeles' else 'CA')\n",
        "data['job_state'].value_counts()[:5]"
      ],
      "execution_count": 17,
      "outputs": [
        {
          "output_type": "execute_result",
          "data": {
            "text/plain": [
              "CA    152\n",
              "MA    103\n",
              "NY     72\n",
              "VA     41\n",
              "IL     40\n",
              "Name: job_state, dtype: int64"
            ]
          },
          "metadata": {
            "tags": []
          },
          "execution_count": 17
        }
      ]
    },
    {
      "cell_type": "code",
      "metadata": {
        "id": "wO-0t_uCG9r-",
        "colab_type": "code",
        "colab": {
          "base_uri": "https://localhost:8080/",
          "height": 241
        },
        "outputId": "91aeb2a4-34db-4b80-cba1-8541828ee08f"
      },
      "source": [
        "data['Founded'].value_counts()"
      ],
      "execution_count": 18,
      "outputs": [
        {
          "output_type": "execute_result",
          "data": {
            "text/plain": [
              "-1       50\n",
              " 2010    32\n",
              " 2008    31\n",
              " 1996    27\n",
              " 2006    24\n",
              "         ..\n",
              " 1985     1\n",
              " 1914     1\n",
              " 1929     1\n",
              " 1971     1\n",
              " 1917     1\n",
              "Name: Founded, Length: 102, dtype: int64"
            ]
          },
          "metadata": {
            "tags": []
          },
          "execution_count": 18
        }
      ]
    },
    {
      "cell_type": "code",
      "metadata": {
        "id": "CInKATMdIiDQ",
        "colab_type": "code",
        "colab": {
          "base_uri": "https://localhost:8080/",
          "height": 241
        },
        "outputId": "e6209418-b841-4810-9245-9fffcda9ab1b"
      },
      "source": [
        "data[\"company_age\"] = data['Founded'].apply(lambda x: x if x<1 else 2020-x)\n",
        "data=data.drop(['Founded'],axis=1)\n",
        "data[\"company_age\"].value_counts()"
      ],
      "execution_count": 19,
      "outputs": [
        {
          "output_type": "execute_result",
          "data": {
            "text/plain": [
              "-1      50\n",
              " 10     32\n",
              " 12     31\n",
              " 24     27\n",
              " 14     24\n",
              "        ..\n",
              " 121     1\n",
              " 118     1\n",
              " 106     1\n",
              " 103     1\n",
              " 276     1\n",
              "Name: company_age, Length: 102, dtype: int64"
            ]
          },
          "metadata": {
            "tags": []
          },
          "execution_count": 19
        }
      ]
    },
    {
      "cell_type": "code",
      "metadata": {
        "id": "o9vccostQRzF",
        "colab_type": "code",
        "colab": {
          "base_uri": "https://localhost:8080/",
          "height": 504
        },
        "outputId": "ea126f7b-20ff-47b5-a43c-4c7340824c24"
      },
      "source": [
        "data.head()"
      ],
      "execution_count": 20,
      "outputs": [
        {
          "output_type": "execute_result",
          "data": {
            "text/html": [
              "<div>\n",
              "<style scoped>\n",
              "    .dataframe tbody tr th:only-of-type {\n",
              "        vertical-align: middle;\n",
              "    }\n",
              "\n",
              "    .dataframe tbody tr th {\n",
              "        vertical-align: top;\n",
              "    }\n",
              "\n",
              "    .dataframe thead th {\n",
              "        text-align: right;\n",
              "    }\n",
              "</style>\n",
              "<table border=\"1\" class=\"dataframe\">\n",
              "  <thead>\n",
              "    <tr style=\"text-align: right;\">\n",
              "      <th></th>\n",
              "      <th>Job Description</th>\n",
              "      <th>Rating</th>\n",
              "      <th>Headquarters</th>\n",
              "      <th>Size</th>\n",
              "      <th>Type of ownership</th>\n",
              "      <th>Industry</th>\n",
              "      <th>Sector</th>\n",
              "      <th>Revenue</th>\n",
              "      <th>job_title_simplified</th>\n",
              "      <th>seniority</th>\n",
              "      <th>salary_per_hour</th>\n",
              "      <th>emp_provided_salary</th>\n",
              "      <th>min_salary</th>\n",
              "      <th>max_salary</th>\n",
              "      <th>average_salary</th>\n",
              "      <th>updated_company_name</th>\n",
              "      <th>updated_competitors</th>\n",
              "      <th>job_state</th>\n",
              "      <th>company_age</th>\n",
              "    </tr>\n",
              "  </thead>\n",
              "  <tbody>\n",
              "    <tr>\n",
              "      <th>0</th>\n",
              "      <td>Data Scientist\\nLocation: Albuquerque, NM\\nEdu...</td>\n",
              "      <td>3.8</td>\n",
              "      <td>Goleta, CA</td>\n",
              "      <td>501 to 1000 employees</td>\n",
              "      <td>Company - Private</td>\n",
              "      <td>Aerospace &amp; Defense</td>\n",
              "      <td>Aerospace &amp; Defense</td>\n",
              "      <td>$50 to $100 million (USD)</td>\n",
              "      <td>data scientist</td>\n",
              "      <td>na</td>\n",
              "      <td>0</td>\n",
              "      <td>0</td>\n",
              "      <td>53</td>\n",
              "      <td>91</td>\n",
              "      <td>72.0</td>\n",
              "      <td>Tecolote Research</td>\n",
              "      <td>0</td>\n",
              "      <td>NM</td>\n",
              "      <td>47</td>\n",
              "    </tr>\n",
              "    <tr>\n",
              "      <th>1</th>\n",
              "      <td>What You Will Do:\\n\\nI. General Summary\\n\\nThe...</td>\n",
              "      <td>3.4</td>\n",
              "      <td>Baltimore, MD</td>\n",
              "      <td>10000+ employees</td>\n",
              "      <td>Other Organization</td>\n",
              "      <td>Health Care Services &amp; Hospitals</td>\n",
              "      <td>Health Care</td>\n",
              "      <td>$2 to $5 billion (USD)</td>\n",
              "      <td>data scientist</td>\n",
              "      <td>na</td>\n",
              "      <td>0</td>\n",
              "      <td>0</td>\n",
              "      <td>63</td>\n",
              "      <td>112</td>\n",
              "      <td>87.5</td>\n",
              "      <td>University of Maryland Medical System</td>\n",
              "      <td>0</td>\n",
              "      <td>MD</td>\n",
              "      <td>36</td>\n",
              "    </tr>\n",
              "    <tr>\n",
              "      <th>2</th>\n",
              "      <td>KnowBe4, Inc. is a high growth information sec...</td>\n",
              "      <td>4.8</td>\n",
              "      <td>Clearwater, FL</td>\n",
              "      <td>501 to 1000 employees</td>\n",
              "      <td>Company - Private</td>\n",
              "      <td>Security Services</td>\n",
              "      <td>Business Services</td>\n",
              "      <td>$100 to $500 million (USD)</td>\n",
              "      <td>data scientist</td>\n",
              "      <td>na</td>\n",
              "      <td>0</td>\n",
              "      <td>0</td>\n",
              "      <td>80</td>\n",
              "      <td>90</td>\n",
              "      <td>85.0</td>\n",
              "      <td>KnowBe4</td>\n",
              "      <td>0</td>\n",
              "      <td>FL</td>\n",
              "      <td>10</td>\n",
              "    </tr>\n",
              "    <tr>\n",
              "      <th>3</th>\n",
              "      <td>*Organization and Job ID**\\nJob ID: 310709\\n\\n...</td>\n",
              "      <td>3.8</td>\n",
              "      <td>Richland, WA</td>\n",
              "      <td>1001 to 5000 employees</td>\n",
              "      <td>Government</td>\n",
              "      <td>Energy</td>\n",
              "      <td>Oil, Gas, Energy &amp; Utilities</td>\n",
              "      <td>$500 million to $1 billion (USD)</td>\n",
              "      <td>data scientist</td>\n",
              "      <td>na</td>\n",
              "      <td>0</td>\n",
              "      <td>0</td>\n",
              "      <td>56</td>\n",
              "      <td>97</td>\n",
              "      <td>76.5</td>\n",
              "      <td>PNNL</td>\n",
              "      <td>3</td>\n",
              "      <td>WA</td>\n",
              "      <td>55</td>\n",
              "    </tr>\n",
              "    <tr>\n",
              "      <th>4</th>\n",
              "      <td>Data Scientist\\nAffinity Solutions / Marketing...</td>\n",
              "      <td>2.9</td>\n",
              "      <td>New York, NY</td>\n",
              "      <td>51 to 200 employees</td>\n",
              "      <td>Company - Private</td>\n",
              "      <td>Advertising &amp; Marketing</td>\n",
              "      <td>Business Services</td>\n",
              "      <td>Unknown / Non-Applicable</td>\n",
              "      <td>data scientist</td>\n",
              "      <td>na</td>\n",
              "      <td>0</td>\n",
              "      <td>0</td>\n",
              "      <td>86</td>\n",
              "      <td>143</td>\n",
              "      <td>114.5</td>\n",
              "      <td>Affinity Solutions</td>\n",
              "      <td>3</td>\n",
              "      <td>NY</td>\n",
              "      <td>22</td>\n",
              "    </tr>\n",
              "  </tbody>\n",
              "</table>\n",
              "</div>"
            ],
            "text/plain": [
              "                                     Job Description  ...  company_age\n",
              "0  Data Scientist\\nLocation: Albuquerque, NM\\nEdu...  ...           47\n",
              "1  What You Will Do:\\n\\nI. General Summary\\n\\nThe...  ...           36\n",
              "2  KnowBe4, Inc. is a high growth information sec...  ...           10\n",
              "3  *Organization and Job ID**\\nJob ID: 310709\\n\\n...  ...           55\n",
              "4  Data Scientist\\nAffinity Solutions / Marketing...  ...           22\n",
              "\n",
              "[5 rows x 19 columns]"
            ]
          },
          "metadata": {
            "tags": []
          },
          "execution_count": 20
        }
      ]
    },
    {
      "cell_type": "code",
      "metadata": {
        "id": "InCKMuwIQfwy",
        "colab_type": "code",
        "colab": {
          "base_uri": "https://localhost:8080/",
          "height": 241
        },
        "outputId": "17ffc4e1-0a42-4444-fa95-4e5533efc2cd"
      },
      "source": [
        "data['updated_headquarters']=data['Headquarters'].apply(lambda x: x.strip().split(\",\")[0])\n",
        "data['updated_headquarters'].value_counts()\n"
      ],
      "execution_count": 21,
      "outputs": [
        {
          "output_type": "execute_result",
          "data": {
            "text/plain": [
              "New York         52\n",
              "San Francisco    42\n",
              "Chicago          30\n",
              "Cambridge        29\n",
              "Springfield      16\n",
              "                 ..\n",
              "Memphis           1\n",
              "Lake Forest       1\n",
              "Shelton           1\n",
              "Bloomington       1\n",
              "Dayton            1\n",
              "Name: updated_headquarters, Length: 193, dtype: int64"
            ]
          },
          "metadata": {
            "tags": []
          },
          "execution_count": 21
        }
      ]
    },
    {
      "cell_type": "code",
      "metadata": {
        "id": "CDYFARQUQ9JY",
        "colab_type": "code",
        "colab": {
          "base_uri": "https://localhost:8080/",
          "height": 185
        },
        "outputId": "0f9e2e74-3b84-490a-ae3c-3d470c299b81"
      },
      "source": [
        "\n",
        "def type_company(ty):\n",
        "  if \"private\" in ty.lower().strip():\n",
        "    return \"private\"\n",
        "  elif \"government\" in ty or \"govt\" in ty.lower().strip() or \"gov\" in ty.lower().strip() or \"public\" in ty.lower().strip():\n",
        "    return \"public\"\n",
        "  elif ('-1' in ty.lower()) or ('unknown' in ty.lower()):\n",
        "    return 'Other Organization'\n",
        "  else:\n",
        "    return ty\n",
        "\n",
        "\n",
        "data['type_of_ownership']=data['Type of ownership'].apply(type_company)\n",
        "\n",
        "data=data.drop(['Type of ownership'],axis=1)\n",
        "data['type_of_ownership'].value_counts()"
      ],
      "execution_count": 22,
      "outputs": [
        {
          "output_type": "execute_result",
          "data": {
            "text/plain": [
              "private                           410\n",
              "public                            208\n",
              "Nonprofit Organization             55\n",
              "Subsidiary or Business Segment     34\n",
              "Hospital                           15\n",
              "College / University               13\n",
              "Other Organization                  5\n",
              "School / School District            2\n",
              "Name: type_of_ownership, dtype: int64"
            ]
          },
          "metadata": {
            "tags": []
          },
          "execution_count": 22
        }
      ]
    },
    {
      "cell_type": "code",
      "metadata": {
        "id": "AVA0rE1AbogV",
        "colab_type": "code",
        "colab": {
          "base_uri": "https://localhost:8080/",
          "height": 504
        },
        "outputId": "b102f1e4-b126-4b5d-b98c-0875a46e7fc0"
      },
      "source": [
        "data.head()"
      ],
      "execution_count": 23,
      "outputs": [
        {
          "output_type": "execute_result",
          "data": {
            "text/html": [
              "<div>\n",
              "<style scoped>\n",
              "    .dataframe tbody tr th:only-of-type {\n",
              "        vertical-align: middle;\n",
              "    }\n",
              "\n",
              "    .dataframe tbody tr th {\n",
              "        vertical-align: top;\n",
              "    }\n",
              "\n",
              "    .dataframe thead th {\n",
              "        text-align: right;\n",
              "    }\n",
              "</style>\n",
              "<table border=\"1\" class=\"dataframe\">\n",
              "  <thead>\n",
              "    <tr style=\"text-align: right;\">\n",
              "      <th></th>\n",
              "      <th>Job Description</th>\n",
              "      <th>Rating</th>\n",
              "      <th>Headquarters</th>\n",
              "      <th>Size</th>\n",
              "      <th>Industry</th>\n",
              "      <th>Sector</th>\n",
              "      <th>Revenue</th>\n",
              "      <th>job_title_simplified</th>\n",
              "      <th>seniority</th>\n",
              "      <th>salary_per_hour</th>\n",
              "      <th>emp_provided_salary</th>\n",
              "      <th>min_salary</th>\n",
              "      <th>max_salary</th>\n",
              "      <th>average_salary</th>\n",
              "      <th>updated_company_name</th>\n",
              "      <th>updated_competitors</th>\n",
              "      <th>job_state</th>\n",
              "      <th>company_age</th>\n",
              "      <th>updated_headquarters</th>\n",
              "      <th>type_of_ownership</th>\n",
              "    </tr>\n",
              "  </thead>\n",
              "  <tbody>\n",
              "    <tr>\n",
              "      <th>0</th>\n",
              "      <td>Data Scientist\\nLocation: Albuquerque, NM\\nEdu...</td>\n",
              "      <td>3.8</td>\n",
              "      <td>Goleta, CA</td>\n",
              "      <td>501 to 1000 employees</td>\n",
              "      <td>Aerospace &amp; Defense</td>\n",
              "      <td>Aerospace &amp; Defense</td>\n",
              "      <td>$50 to $100 million (USD)</td>\n",
              "      <td>data scientist</td>\n",
              "      <td>na</td>\n",
              "      <td>0</td>\n",
              "      <td>0</td>\n",
              "      <td>53</td>\n",
              "      <td>91</td>\n",
              "      <td>72.0</td>\n",
              "      <td>Tecolote Research</td>\n",
              "      <td>0</td>\n",
              "      <td>NM</td>\n",
              "      <td>47</td>\n",
              "      <td>Goleta</td>\n",
              "      <td>private</td>\n",
              "    </tr>\n",
              "    <tr>\n",
              "      <th>1</th>\n",
              "      <td>What You Will Do:\\n\\nI. General Summary\\n\\nThe...</td>\n",
              "      <td>3.4</td>\n",
              "      <td>Baltimore, MD</td>\n",
              "      <td>10000+ employees</td>\n",
              "      <td>Health Care Services &amp; Hospitals</td>\n",
              "      <td>Health Care</td>\n",
              "      <td>$2 to $5 billion (USD)</td>\n",
              "      <td>data scientist</td>\n",
              "      <td>na</td>\n",
              "      <td>0</td>\n",
              "      <td>0</td>\n",
              "      <td>63</td>\n",
              "      <td>112</td>\n",
              "      <td>87.5</td>\n",
              "      <td>University of Maryland Medical System</td>\n",
              "      <td>0</td>\n",
              "      <td>MD</td>\n",
              "      <td>36</td>\n",
              "      <td>Baltimore</td>\n",
              "      <td>Other Organization</td>\n",
              "    </tr>\n",
              "    <tr>\n",
              "      <th>2</th>\n",
              "      <td>KnowBe4, Inc. is a high growth information sec...</td>\n",
              "      <td>4.8</td>\n",
              "      <td>Clearwater, FL</td>\n",
              "      <td>501 to 1000 employees</td>\n",
              "      <td>Security Services</td>\n",
              "      <td>Business Services</td>\n",
              "      <td>$100 to $500 million (USD)</td>\n",
              "      <td>data scientist</td>\n",
              "      <td>na</td>\n",
              "      <td>0</td>\n",
              "      <td>0</td>\n",
              "      <td>80</td>\n",
              "      <td>90</td>\n",
              "      <td>85.0</td>\n",
              "      <td>KnowBe4</td>\n",
              "      <td>0</td>\n",
              "      <td>FL</td>\n",
              "      <td>10</td>\n",
              "      <td>Clearwater</td>\n",
              "      <td>private</td>\n",
              "    </tr>\n",
              "    <tr>\n",
              "      <th>3</th>\n",
              "      <td>*Organization and Job ID**\\nJob ID: 310709\\n\\n...</td>\n",
              "      <td>3.8</td>\n",
              "      <td>Richland, WA</td>\n",
              "      <td>1001 to 5000 employees</td>\n",
              "      <td>Energy</td>\n",
              "      <td>Oil, Gas, Energy &amp; Utilities</td>\n",
              "      <td>$500 million to $1 billion (USD)</td>\n",
              "      <td>data scientist</td>\n",
              "      <td>na</td>\n",
              "      <td>0</td>\n",
              "      <td>0</td>\n",
              "      <td>56</td>\n",
              "      <td>97</td>\n",
              "      <td>76.5</td>\n",
              "      <td>PNNL</td>\n",
              "      <td>3</td>\n",
              "      <td>WA</td>\n",
              "      <td>55</td>\n",
              "      <td>Richland</td>\n",
              "      <td>public</td>\n",
              "    </tr>\n",
              "    <tr>\n",
              "      <th>4</th>\n",
              "      <td>Data Scientist\\nAffinity Solutions / Marketing...</td>\n",
              "      <td>2.9</td>\n",
              "      <td>New York, NY</td>\n",
              "      <td>51 to 200 employees</td>\n",
              "      <td>Advertising &amp; Marketing</td>\n",
              "      <td>Business Services</td>\n",
              "      <td>Unknown / Non-Applicable</td>\n",
              "      <td>data scientist</td>\n",
              "      <td>na</td>\n",
              "      <td>0</td>\n",
              "      <td>0</td>\n",
              "      <td>86</td>\n",
              "      <td>143</td>\n",
              "      <td>114.5</td>\n",
              "      <td>Affinity Solutions</td>\n",
              "      <td>3</td>\n",
              "      <td>NY</td>\n",
              "      <td>22</td>\n",
              "      <td>New York</td>\n",
              "      <td>private</td>\n",
              "    </tr>\n",
              "  </tbody>\n",
              "</table>\n",
              "</div>"
            ],
            "text/plain": [
              "                                     Job Description  ...   type_of_ownership\n",
              "0  Data Scientist\\nLocation: Albuquerque, NM\\nEdu...  ...             private\n",
              "1  What You Will Do:\\n\\nI. General Summary\\n\\nThe...  ...  Other Organization\n",
              "2  KnowBe4, Inc. is a high growth information sec...  ...             private\n",
              "3  *Organization and Job ID**\\nJob ID: 310709\\n\\n...  ...              public\n",
              "4  Data Scientist\\nAffinity Solutions / Marketing...  ...             private\n",
              "\n",
              "[5 rows x 20 columns]"
            ]
          },
          "metadata": {
            "tags": []
          },
          "execution_count": 23
        }
      ]
    },
    {
      "cell_type": "code",
      "metadata": {
        "id": "_o7hFGazb1S7",
        "colab_type": "code",
        "colab": {
          "base_uri": "https://localhost:8080/",
          "height": 469
        },
        "outputId": "fe167e99-4516-4458-e538-b85b1dbc10d4"
      },
      "source": [
        "def revenue_simplifier(text):\n",
        "  if '-1' in text.lower():\n",
        "    return 'Unknown / Non-Applicable'\n",
        "  else:\n",
        "    return text\n",
        "\n",
        "def size_simplifier(text):\n",
        "  if '-1' in text.lower():\n",
        "    return 'Unknown'\n",
        "  else:\n",
        "    return text\n",
        "\n",
        "data['Revenue'] = data['Revenue'].apply(revenue_simplifier)\n",
        "data['Size'] = data['Size'].apply(size_simplifier)\n",
        "\n",
        "data[\"python_job\"] = data['Job Description'].apply(lambda x: 1 if 'python' in x.lower() else 0)\n",
        "data[\"r_job\"] = data['Job Description'].apply(lambda x: 1 if 'r studio' in x.lower() else 0)\n",
        "data[\"spark_job\"] = data['Job Description'].apply(lambda x: 1 if 'spark' in x.lower() else 0)\n",
        "data[\"aws_job\"] = data['Job Description'].apply(lambda x: 1 if 'aws' in x.lower() else 0)\n",
        "data[\"excel_job\"] = data['Job Description'].apply(lambda x: 1 if 'excel' in x.lower() else 0)\n",
        "\n",
        "data=data.drop(['Job Description'],axis=1)\n",
        "data.head()"
      ],
      "execution_count": 24,
      "outputs": [
        {
          "output_type": "execute_result",
          "data": {
            "text/html": [
              "<div>\n",
              "<style scoped>\n",
              "    .dataframe tbody tr th:only-of-type {\n",
              "        vertical-align: middle;\n",
              "    }\n",
              "\n",
              "    .dataframe tbody tr th {\n",
              "        vertical-align: top;\n",
              "    }\n",
              "\n",
              "    .dataframe thead th {\n",
              "        text-align: right;\n",
              "    }\n",
              "</style>\n",
              "<table border=\"1\" class=\"dataframe\">\n",
              "  <thead>\n",
              "    <tr style=\"text-align: right;\">\n",
              "      <th></th>\n",
              "      <th>Rating</th>\n",
              "      <th>Headquarters</th>\n",
              "      <th>Size</th>\n",
              "      <th>Industry</th>\n",
              "      <th>Sector</th>\n",
              "      <th>Revenue</th>\n",
              "      <th>job_title_simplified</th>\n",
              "      <th>seniority</th>\n",
              "      <th>salary_per_hour</th>\n",
              "      <th>emp_provided_salary</th>\n",
              "      <th>min_salary</th>\n",
              "      <th>max_salary</th>\n",
              "      <th>average_salary</th>\n",
              "      <th>updated_company_name</th>\n",
              "      <th>updated_competitors</th>\n",
              "      <th>job_state</th>\n",
              "      <th>company_age</th>\n",
              "      <th>updated_headquarters</th>\n",
              "      <th>type_of_ownership</th>\n",
              "      <th>python_job</th>\n",
              "      <th>r_job</th>\n",
              "      <th>spark_job</th>\n",
              "      <th>aws_job</th>\n",
              "      <th>excel_job</th>\n",
              "    </tr>\n",
              "  </thead>\n",
              "  <tbody>\n",
              "    <tr>\n",
              "      <th>0</th>\n",
              "      <td>3.8</td>\n",
              "      <td>Goleta, CA</td>\n",
              "      <td>501 to 1000 employees</td>\n",
              "      <td>Aerospace &amp; Defense</td>\n",
              "      <td>Aerospace &amp; Defense</td>\n",
              "      <td>$50 to $100 million (USD)</td>\n",
              "      <td>data scientist</td>\n",
              "      <td>na</td>\n",
              "      <td>0</td>\n",
              "      <td>0</td>\n",
              "      <td>53</td>\n",
              "      <td>91</td>\n",
              "      <td>72.0</td>\n",
              "      <td>Tecolote Research</td>\n",
              "      <td>0</td>\n",
              "      <td>NM</td>\n",
              "      <td>47</td>\n",
              "      <td>Goleta</td>\n",
              "      <td>private</td>\n",
              "      <td>1</td>\n",
              "      <td>0</td>\n",
              "      <td>0</td>\n",
              "      <td>0</td>\n",
              "      <td>1</td>\n",
              "    </tr>\n",
              "    <tr>\n",
              "      <th>1</th>\n",
              "      <td>3.4</td>\n",
              "      <td>Baltimore, MD</td>\n",
              "      <td>10000+ employees</td>\n",
              "      <td>Health Care Services &amp; Hospitals</td>\n",
              "      <td>Health Care</td>\n",
              "      <td>$2 to $5 billion (USD)</td>\n",
              "      <td>data scientist</td>\n",
              "      <td>na</td>\n",
              "      <td>0</td>\n",
              "      <td>0</td>\n",
              "      <td>63</td>\n",
              "      <td>112</td>\n",
              "      <td>87.5</td>\n",
              "      <td>University of Maryland Medical System</td>\n",
              "      <td>0</td>\n",
              "      <td>MD</td>\n",
              "      <td>36</td>\n",
              "      <td>Baltimore</td>\n",
              "      <td>Other Organization</td>\n",
              "      <td>1</td>\n",
              "      <td>0</td>\n",
              "      <td>0</td>\n",
              "      <td>0</td>\n",
              "      <td>0</td>\n",
              "    </tr>\n",
              "    <tr>\n",
              "      <th>2</th>\n",
              "      <td>4.8</td>\n",
              "      <td>Clearwater, FL</td>\n",
              "      <td>501 to 1000 employees</td>\n",
              "      <td>Security Services</td>\n",
              "      <td>Business Services</td>\n",
              "      <td>$100 to $500 million (USD)</td>\n",
              "      <td>data scientist</td>\n",
              "      <td>na</td>\n",
              "      <td>0</td>\n",
              "      <td>0</td>\n",
              "      <td>80</td>\n",
              "      <td>90</td>\n",
              "      <td>85.0</td>\n",
              "      <td>KnowBe4</td>\n",
              "      <td>0</td>\n",
              "      <td>FL</td>\n",
              "      <td>10</td>\n",
              "      <td>Clearwater</td>\n",
              "      <td>private</td>\n",
              "      <td>1</td>\n",
              "      <td>0</td>\n",
              "      <td>1</td>\n",
              "      <td>0</td>\n",
              "      <td>1</td>\n",
              "    </tr>\n",
              "    <tr>\n",
              "      <th>3</th>\n",
              "      <td>3.8</td>\n",
              "      <td>Richland, WA</td>\n",
              "      <td>1001 to 5000 employees</td>\n",
              "      <td>Energy</td>\n",
              "      <td>Oil, Gas, Energy &amp; Utilities</td>\n",
              "      <td>$500 million to $1 billion (USD)</td>\n",
              "      <td>data scientist</td>\n",
              "      <td>na</td>\n",
              "      <td>0</td>\n",
              "      <td>0</td>\n",
              "      <td>56</td>\n",
              "      <td>97</td>\n",
              "      <td>76.5</td>\n",
              "      <td>PNNL</td>\n",
              "      <td>3</td>\n",
              "      <td>WA</td>\n",
              "      <td>55</td>\n",
              "      <td>Richland</td>\n",
              "      <td>public</td>\n",
              "      <td>1</td>\n",
              "      <td>0</td>\n",
              "      <td>0</td>\n",
              "      <td>0</td>\n",
              "      <td>0</td>\n",
              "    </tr>\n",
              "    <tr>\n",
              "      <th>4</th>\n",
              "      <td>2.9</td>\n",
              "      <td>New York, NY</td>\n",
              "      <td>51 to 200 employees</td>\n",
              "      <td>Advertising &amp; Marketing</td>\n",
              "      <td>Business Services</td>\n",
              "      <td>Unknown / Non-Applicable</td>\n",
              "      <td>data scientist</td>\n",
              "      <td>na</td>\n",
              "      <td>0</td>\n",
              "      <td>0</td>\n",
              "      <td>86</td>\n",
              "      <td>143</td>\n",
              "      <td>114.5</td>\n",
              "      <td>Affinity Solutions</td>\n",
              "      <td>3</td>\n",
              "      <td>NY</td>\n",
              "      <td>22</td>\n",
              "      <td>New York</td>\n",
              "      <td>private</td>\n",
              "      <td>1</td>\n",
              "      <td>0</td>\n",
              "      <td>0</td>\n",
              "      <td>0</td>\n",
              "      <td>1</td>\n",
              "    </tr>\n",
              "  </tbody>\n",
              "</table>\n",
              "</div>"
            ],
            "text/plain": [
              "   Rating    Headquarters  ... aws_job excel_job\n",
              "0     3.8      Goleta, CA  ...       0         1\n",
              "1     3.4   Baltimore, MD  ...       0         0\n",
              "2     4.8  Clearwater, FL  ...       0         1\n",
              "3     3.8    Richland, WA  ...       0         0\n",
              "4     2.9    New York, NY  ...       0         1\n",
              "\n",
              "[5 rows x 24 columns]"
            ]
          },
          "metadata": {
            "tags": []
          },
          "execution_count": 24
        }
      ]
    },
    {
      "cell_type": "code",
      "metadata": {
        "id": "5cpdw92ght5U",
        "colab_type": "code",
        "colab": {
          "base_uri": "https://localhost:8080/",
          "height": 485
        },
        "outputId": "c0b3c6dd-231a-40b1-f1b8-2e603b5112a9"
      },
      "source": [
        "data.dtypes"
      ],
      "execution_count": 25,
      "outputs": [
        {
          "output_type": "execute_result",
          "data": {
            "text/plain": [
              "Rating                  float64\n",
              "Headquarters             object\n",
              "Size                     object\n",
              "Industry                 object\n",
              "Sector                   object\n",
              "Revenue                  object\n",
              "job_title_simplified     object\n",
              "seniority                object\n",
              "salary_per_hour           int64\n",
              "emp_provided_salary       int64\n",
              "min_salary                int64\n",
              "max_salary                int64\n",
              "average_salary          float64\n",
              "updated_company_name     object\n",
              "updated_competitors       int64\n",
              "job_state                object\n",
              "company_age               int64\n",
              "updated_headquarters     object\n",
              "type_of_ownership        object\n",
              "python_job                int64\n",
              "r_job                     int64\n",
              "spark_job                 int64\n",
              "aws_job                   int64\n",
              "excel_job                 int64\n",
              "dtype: object"
            ]
          },
          "metadata": {
            "tags": []
          },
          "execution_count": 25
        }
      ]
    },
    {
      "cell_type": "markdown",
      "metadata": {
        "id": "qTPWhvTFoBsQ",
        "colab_type": "text"
      },
      "source": [
        "**Feature Engineering**"
      ]
    },
    {
      "cell_type": "code",
      "metadata": {
        "id": "gdIYCZhCh9Vq",
        "colab_type": "code",
        "colab": {}
      },
      "source": [
        "# Taking top 11 Industries and replacing others by 'Others'\n",
        "industry_list = ['Biotech & Pharmaceuticals', 'Insurance Carriers', 'Computer Hardware & Software', 'IT Services', 'Health Care Services & Hospitals', \n",
        "                 'Enterprise Software & Network Solutions', 'Consulting', 'Internet', 'Advertising & Marketing', 'Aerospace & Defense', 'Consumer Products Manufacturing']\n",
        "job_state_list = ['CA', 'MA', 'NY', 'VA', 'IL', 'MD', 'PA', 'TX', 'NC', 'WA']\n",
        "def industry_simplifier(text):\n",
        "  if text not in industry_list:\n",
        "    return 'Others'\n",
        "  else:\n",
        "    return text\n",
        "\n",
        "def job_state_simplifier(text):\n",
        "  if text not in job_state_list:\n",
        "    return 'Others'\n",
        "  else:\n",
        "    return text\n",
        "data['job_in_headquarters'] = data.apply(lambda x: 1 if x['job_state'] == x['Headquarters'] else 0, axis=1)\n",
        "data['job_state'] = data['job_state'].apply(job_state_simplifier)\n",
        "data['Industry'] = data['Industry'].apply(industry_simplifier)\n",
        "\n",
        "data=data.drop(['Headquarters'],axis=1)"
      ],
      "execution_count": 26,
      "outputs": []
    },
    {
      "cell_type": "code",
      "metadata": {
        "id": "CjwNW3EXqvs7",
        "colab_type": "code",
        "colab": {
          "base_uri": "https://localhost:8080/",
          "height": 469
        },
        "outputId": "504ca164-488a-4a80-a2eb-31f636abfb15"
      },
      "source": [
        "data.head()"
      ],
      "execution_count": 27,
      "outputs": [
        {
          "output_type": "execute_result",
          "data": {
            "text/html": [
              "<div>\n",
              "<style scoped>\n",
              "    .dataframe tbody tr th:only-of-type {\n",
              "        vertical-align: middle;\n",
              "    }\n",
              "\n",
              "    .dataframe tbody tr th {\n",
              "        vertical-align: top;\n",
              "    }\n",
              "\n",
              "    .dataframe thead th {\n",
              "        text-align: right;\n",
              "    }\n",
              "</style>\n",
              "<table border=\"1\" class=\"dataframe\">\n",
              "  <thead>\n",
              "    <tr style=\"text-align: right;\">\n",
              "      <th></th>\n",
              "      <th>Rating</th>\n",
              "      <th>Size</th>\n",
              "      <th>Industry</th>\n",
              "      <th>Sector</th>\n",
              "      <th>Revenue</th>\n",
              "      <th>job_title_simplified</th>\n",
              "      <th>seniority</th>\n",
              "      <th>salary_per_hour</th>\n",
              "      <th>emp_provided_salary</th>\n",
              "      <th>min_salary</th>\n",
              "      <th>max_salary</th>\n",
              "      <th>average_salary</th>\n",
              "      <th>updated_company_name</th>\n",
              "      <th>updated_competitors</th>\n",
              "      <th>job_state</th>\n",
              "      <th>company_age</th>\n",
              "      <th>updated_headquarters</th>\n",
              "      <th>type_of_ownership</th>\n",
              "      <th>python_job</th>\n",
              "      <th>r_job</th>\n",
              "      <th>spark_job</th>\n",
              "      <th>aws_job</th>\n",
              "      <th>excel_job</th>\n",
              "      <th>job_in_headquarters</th>\n",
              "    </tr>\n",
              "  </thead>\n",
              "  <tbody>\n",
              "    <tr>\n",
              "      <th>0</th>\n",
              "      <td>3.8</td>\n",
              "      <td>501 to 1000 employees</td>\n",
              "      <td>Aerospace &amp; Defense</td>\n",
              "      <td>Aerospace &amp; Defense</td>\n",
              "      <td>$50 to $100 million (USD)</td>\n",
              "      <td>data scientist</td>\n",
              "      <td>na</td>\n",
              "      <td>0</td>\n",
              "      <td>0</td>\n",
              "      <td>53</td>\n",
              "      <td>91</td>\n",
              "      <td>72.0</td>\n",
              "      <td>Tecolote Research</td>\n",
              "      <td>0</td>\n",
              "      <td>Others</td>\n",
              "      <td>47</td>\n",
              "      <td>Goleta</td>\n",
              "      <td>private</td>\n",
              "      <td>1</td>\n",
              "      <td>0</td>\n",
              "      <td>0</td>\n",
              "      <td>0</td>\n",
              "      <td>1</td>\n",
              "      <td>0</td>\n",
              "    </tr>\n",
              "    <tr>\n",
              "      <th>1</th>\n",
              "      <td>3.4</td>\n",
              "      <td>10000+ employees</td>\n",
              "      <td>Health Care Services &amp; Hospitals</td>\n",
              "      <td>Health Care</td>\n",
              "      <td>$2 to $5 billion (USD)</td>\n",
              "      <td>data scientist</td>\n",
              "      <td>na</td>\n",
              "      <td>0</td>\n",
              "      <td>0</td>\n",
              "      <td>63</td>\n",
              "      <td>112</td>\n",
              "      <td>87.5</td>\n",
              "      <td>University of Maryland Medical System</td>\n",
              "      <td>0</td>\n",
              "      <td>MD</td>\n",
              "      <td>36</td>\n",
              "      <td>Baltimore</td>\n",
              "      <td>Other Organization</td>\n",
              "      <td>1</td>\n",
              "      <td>0</td>\n",
              "      <td>0</td>\n",
              "      <td>0</td>\n",
              "      <td>0</td>\n",
              "      <td>0</td>\n",
              "    </tr>\n",
              "    <tr>\n",
              "      <th>2</th>\n",
              "      <td>4.8</td>\n",
              "      <td>501 to 1000 employees</td>\n",
              "      <td>Others</td>\n",
              "      <td>Business Services</td>\n",
              "      <td>$100 to $500 million (USD)</td>\n",
              "      <td>data scientist</td>\n",
              "      <td>na</td>\n",
              "      <td>0</td>\n",
              "      <td>0</td>\n",
              "      <td>80</td>\n",
              "      <td>90</td>\n",
              "      <td>85.0</td>\n",
              "      <td>KnowBe4</td>\n",
              "      <td>0</td>\n",
              "      <td>Others</td>\n",
              "      <td>10</td>\n",
              "      <td>Clearwater</td>\n",
              "      <td>private</td>\n",
              "      <td>1</td>\n",
              "      <td>0</td>\n",
              "      <td>1</td>\n",
              "      <td>0</td>\n",
              "      <td>1</td>\n",
              "      <td>0</td>\n",
              "    </tr>\n",
              "    <tr>\n",
              "      <th>3</th>\n",
              "      <td>3.8</td>\n",
              "      <td>1001 to 5000 employees</td>\n",
              "      <td>Others</td>\n",
              "      <td>Oil, Gas, Energy &amp; Utilities</td>\n",
              "      <td>$500 million to $1 billion (USD)</td>\n",
              "      <td>data scientist</td>\n",
              "      <td>na</td>\n",
              "      <td>0</td>\n",
              "      <td>0</td>\n",
              "      <td>56</td>\n",
              "      <td>97</td>\n",
              "      <td>76.5</td>\n",
              "      <td>PNNL</td>\n",
              "      <td>3</td>\n",
              "      <td>WA</td>\n",
              "      <td>55</td>\n",
              "      <td>Richland</td>\n",
              "      <td>public</td>\n",
              "      <td>1</td>\n",
              "      <td>0</td>\n",
              "      <td>0</td>\n",
              "      <td>0</td>\n",
              "      <td>0</td>\n",
              "      <td>0</td>\n",
              "    </tr>\n",
              "    <tr>\n",
              "      <th>4</th>\n",
              "      <td>2.9</td>\n",
              "      <td>51 to 200 employees</td>\n",
              "      <td>Advertising &amp; Marketing</td>\n",
              "      <td>Business Services</td>\n",
              "      <td>Unknown / Non-Applicable</td>\n",
              "      <td>data scientist</td>\n",
              "      <td>na</td>\n",
              "      <td>0</td>\n",
              "      <td>0</td>\n",
              "      <td>86</td>\n",
              "      <td>143</td>\n",
              "      <td>114.5</td>\n",
              "      <td>Affinity Solutions</td>\n",
              "      <td>3</td>\n",
              "      <td>NY</td>\n",
              "      <td>22</td>\n",
              "      <td>New York</td>\n",
              "      <td>private</td>\n",
              "      <td>1</td>\n",
              "      <td>0</td>\n",
              "      <td>0</td>\n",
              "      <td>0</td>\n",
              "      <td>1</td>\n",
              "      <td>0</td>\n",
              "    </tr>\n",
              "  </tbody>\n",
              "</table>\n",
              "</div>"
            ],
            "text/plain": [
              "   Rating                    Size  ... excel_job job_in_headquarters\n",
              "0     3.8   501 to 1000 employees  ...         1                   0\n",
              "1     3.4        10000+ employees  ...         0                   0\n",
              "2     4.8   501 to 1000 employees  ...         1                   0\n",
              "3     3.8  1001 to 5000 employees  ...         0                   0\n",
              "4     2.9     51 to 200 employees  ...         1                   0\n",
              "\n",
              "[5 rows x 24 columns]"
            ]
          },
          "metadata": {
            "tags": []
          },
          "execution_count": 27
        }
      ]
    },
    {
      "cell_type": "code",
      "metadata": {
        "id": "6OmPgxYbsVPN",
        "colab_type": "code",
        "colab": {
          "base_uri": "https://localhost:8080/",
          "height": 447
        },
        "outputId": "74432873-77f6-48b9-909f-c761fac6ffd1"
      },
      "source": [
        "print(data['Revenue'].value_counts())\n",
        "data['Size'].value_counts()"
      ],
      "execution_count": 28,
      "outputs": [
        {
          "output_type": "stream",
          "text": [
            "Unknown / Non-Applicable            204\n",
            "$10+ billion (USD)                  124\n",
            "$100 to $500 million (USD)           91\n",
            "$1 to $2 billion (USD)               60\n",
            "$500 million to $1 billion (USD)     57\n",
            "$50 to $100 million (USD)            46\n",
            "$25 to $50 million (USD)             40\n",
            "$2 to $5 billion (USD)               39\n",
            "$10 to $25 million (USD)             32\n",
            "$5 to $10 billion (USD)              19\n",
            "$5 to $10 million (USD)              18\n",
            "$1 to $5 million (USD)                8\n",
            "Less than $1 million (USD)            4\n",
            "Name: Revenue, dtype: int64\n"
          ],
          "name": "stdout"
        },
        {
          "output_type": "execute_result",
          "data": {
            "text/plain": [
              "1001 to 5000 employees     150\n",
              "501 to 1000 employees      134\n",
              "10000+ employees           130\n",
              "201 to 500 employees       117\n",
              "51 to 200 employees         94\n",
              "5001 to 10000 employees     76\n",
              "1 to 50 employees           31\n",
              "Unknown                     10\n",
              "Name: Size, dtype: int64"
            ]
          },
          "metadata": {
            "tags": []
          },
          "execution_count": 28
        }
      ]
    },
    {
      "cell_type": "markdown",
      "metadata": {
        "id": "4apwwRBlwBce",
        "colab_type": "text"
      },
      "source": [
        "**Ordinal Categorical Features**"
      ]
    },
    {
      "cell_type": "code",
      "metadata": {
        "id": "teMZJ5n6uVbM",
        "colab_type": "code",
        "colab": {}
      },
      "source": [
        "size_map = {'Unknown': 0, '1 to 50 employees': 1, '51 to 200 employees': 2, '201 to 500 employees': 3,\n",
        "            '501 to 1000 employees': 4, '1001 to 5000 employees': 5, '5001 to 10000 employees': 6, '10000+ employees': 7}\n",
        "data['company_size_rank'] = data['Size'].map(size_map)\n",
        "data.drop('Size', axis=1, inplace=True)\n",
        "\n",
        "revenue_map = {'Unknown / Non-Applicable': 0, 'Less than $1 million (USD)': 1, '$1 to $5 million (USD)': 2, '$5 to $10 million (USD)': 3,\n",
        "            '$10 to $25 million (USD)': 4, '$25 to $50 million (USD)': 5, '$50 to $100 million (USD)': 6, '$100 to $500 million (USD)': 7,\n",
        "            '$500 million to $1 billion (USD)': 8, '$1 to $2 billion (USD)': 9, '$2 to $5 billion (USD)':10, '$5 to $10 billion (USD)':11, '$10+ billion (USD)':12}\n",
        "data['company_revenue_rank'] = data['Revenue'].map(revenue_map)\n",
        "data.drop('Revenue', axis=1, inplace=True)\n",
        "job_seniority_map = {'na': 0, 'jr': 1, 'senior': 2}\n",
        "data['job_seniority_rank'] = data['seniority'].map(job_seniority_map)\n",
        "data.drop('seniority', axis=1, inplace=True)"
      ],
      "execution_count": 29,
      "outputs": []
    },
    {
      "cell_type": "markdown",
      "metadata": {
        "id": "VtdjyV2OwLqh",
        "colab_type": "text"
      },
      "source": [
        "**Nominal Categorical Features**"
      ]
    },
    {
      "cell_type": "code",
      "metadata": {
        "id": "xTABgs05wq2B",
        "colab_type": "code",
        "colab": {
          "base_uri": "https://localhost:8080/",
          "height": 36
        },
        "outputId": "7404f0d4-0754-40af-b9d1-ec66148c6425"
      },
      "source": [
        "data = pd.get_dummies(columns=['type_of_ownership'], data=data)\n",
        "\n",
        "data = pd.get_dummies(columns=['Industry'], data=data)\n",
        "\n",
        "\n",
        "data = pd.get_dummies(columns=['job_title_simplified'], data=data)\n",
        "\n",
        "\n",
        "data = pd.get_dummies(columns=['job_state'], data=data)\n",
        "data=data.drop(['Sector'],axis=1)\n",
        "data.shape"
      ],
      "execution_count": 30,
      "outputs": [
        {
          "output_type": "execute_result",
          "data": {
            "text/plain": [
              "(742, 57)"
            ]
          },
          "metadata": {
            "tags": []
          },
          "execution_count": 30
        }
      ]
    },
    {
      "cell_type": "code",
      "metadata": {
        "id": "aD3ssnw1y9AG",
        "colab_type": "code",
        "colab": {
          "base_uri": "https://localhost:8080/",
          "height": 1000
        },
        "outputId": "280b2613-3ec1-4001-8590-126bf7217ff1"
      },
      "source": [
        "data.dtypes"
      ],
      "execution_count": 31,
      "outputs": [
        {
          "output_type": "execute_result",
          "data": {
            "text/plain": [
              "Rating                                              float64\n",
              "salary_per_hour                                       int64\n",
              "emp_provided_salary                                   int64\n",
              "min_salary                                            int64\n",
              "max_salary                                            int64\n",
              "average_salary                                      float64\n",
              "updated_company_name                                 object\n",
              "updated_competitors                                   int64\n",
              "company_age                                           int64\n",
              "updated_headquarters                                 object\n",
              "python_job                                            int64\n",
              "r_job                                                 int64\n",
              "spark_job                                             int64\n",
              "aws_job                                               int64\n",
              "excel_job                                             int64\n",
              "job_in_headquarters                                   int64\n",
              "company_size_rank                                     int64\n",
              "company_revenue_rank                                  int64\n",
              "job_seniority_rank                                    int64\n",
              "type_of_ownership_College / University                uint8\n",
              "type_of_ownership_Hospital                            uint8\n",
              "type_of_ownership_Nonprofit Organization              uint8\n",
              "type_of_ownership_Other Organization                  uint8\n",
              "type_of_ownership_School / School District            uint8\n",
              "type_of_ownership_Subsidiary or Business Segment      uint8\n",
              "type_of_ownership_private                             uint8\n",
              "type_of_ownership_public                              uint8\n",
              "Industry_Advertising & Marketing                      uint8\n",
              "Industry_Aerospace & Defense                          uint8\n",
              "Industry_Biotech & Pharmaceuticals                    uint8\n",
              "Industry_Computer Hardware & Software                 uint8\n",
              "Industry_Consulting                                   uint8\n",
              "Industry_Consumer Products Manufacturing              uint8\n",
              "Industry_Enterprise Software & Network Solutions      uint8\n",
              "Industry_Health Care Services & Hospitals             uint8\n",
              "Industry_IT Services                                  uint8\n",
              "Industry_Insurance Carriers                           uint8\n",
              "Industry_Internet                                     uint8\n",
              "Industry_Others                                       uint8\n",
              "job_title_simplified_analyst                          uint8\n",
              "job_title_simplified_data engineer                    uint8\n",
              "job_title_simplified_data scientist                   uint8\n",
              "job_title_simplified_director                         uint8\n",
              "job_title_simplified_manager                          uint8\n",
              "job_title_simplified_mle                              uint8\n",
              "job_title_simplified_na                               uint8\n",
              "job_state_CA                                          uint8\n",
              "job_state_IL                                          uint8\n",
              "job_state_MA                                          uint8\n",
              "job_state_MD                                          uint8\n",
              "job_state_NC                                          uint8\n",
              "job_state_NY                                          uint8\n",
              "job_state_Others                                      uint8\n",
              "job_state_PA                                          uint8\n",
              "job_state_TX                                          uint8\n",
              "job_state_VA                                          uint8\n",
              "job_state_WA                                          uint8\n",
              "dtype: object"
            ]
          },
          "metadata": {
            "tags": []
          },
          "execution_count": 31
        }
      ]
    },
    {
      "cell_type": "code",
      "metadata": {
        "id": "ioLkql985qCG",
        "colab_type": "code",
        "colab": {
          "base_uri": "https://localhost:8080/",
          "height": 36
        },
        "outputId": "b1f89098-50d6-43a1-9b1b-c97f0cbcae19"
      },
      "source": [
        "data['updated_company_name'].nunique()"
      ],
      "execution_count": 32,
      "outputs": [
        {
          "output_type": "execute_result",
          "data": {
            "text/plain": [
              "343"
            ]
          },
          "metadata": {
            "tags": []
          },
          "execution_count": 32
        }
      ]
    },
    {
      "cell_type": "code",
      "metadata": {
        "id": "a17SsdLm5JlF",
        "colab_type": "code",
        "colab": {}
      },
      "source": [
        "col=['updated_company_name','updated_headquarters']\n",
        "data.drop(col,axis=1,inplace=True)\n",
        "data.dropna(inplace=True)\n"
      ],
      "execution_count": 33,
      "outputs": []
    },
    {
      "cell_type": "code",
      "metadata": {
        "id": "-IPQKqzK0w2d",
        "colab_type": "code",
        "colab": {
          "base_uri": "https://localhost:8080/",
          "height": 36
        },
        "outputId": "fe26d0a3-29fa-4bce-ec04-5deeff54cdba"
      },
      "source": [
        "X = data.drop('average_salary', axis=1)\n",
        "y = data['average_salary']\n",
        "\n",
        "from sklearn.model_selection import train_test_split\n",
        "X_train, X_test, y_train, y_test = train_test_split(X, y, test_size=0.20, random_state=42)\n",
        "print(\"Training set size: {} and Testing set size: {}\".format(X_train.shape, X_test.shape))"
      ],
      "execution_count": 34,
      "outputs": [
        {
          "output_type": "stream",
          "text": [
            "Training set size: (593, 54) and Testing set size: (149, 54)\n"
          ],
          "name": "stdout"
        }
      ]
    },
    {
      "cell_type": "markdown",
      "metadata": {
        "id": "9OF6g0U805fx",
        "colab_type": "text"
      },
      "source": [
        "**1)Linear Regression**"
      ]
    },
    {
      "cell_type": "code",
      "metadata": {
        "id": "8yeqjsaW03Bs",
        "colab_type": "code",
        "colab": {
          "base_uri": "https://localhost:8080/",
          "height": 54
        },
        "outputId": "41c2476a-8547-4ac2-fe29-8ecf6217f965"
      },
      "source": [
        "from sklearn.linear_model import LinearRegression\n",
        "from sklearn.metrics import mean_absolute_error\n",
        "lr_model = LinearRegression()\n",
        "\n",
        "lr_model.fit(X_train, y_train)\n",
        "y_m=lr_model.predict(X_test)\n",
        "print(mean_absolute_error(y_test,y_m))\n",
        "print(\"Accuracy of the Linear Regression Model on Training set is : {}% and on Test set is {}%\".format(round(lr_model.score(X_train, y_train),4)*100, round(lr_model.score(X_test, y_test),4)*100))"
      ],
      "execution_count": 35,
      "outputs": [
        {
          "output_type": "stream",
          "text": [
            "3.078223731094931e-14\n",
            "Accuracy of the Linear Regression Model on Training set is : 100.0% and on Test set is 100.0%\n"
          ],
          "name": "stdout"
        }
      ]
    },
    {
      "cell_type": "markdown",
      "metadata": {
        "id": "c3-eEgNv97ZC",
        "colab_type": "text"
      },
      "source": [
        "**Decision Tree Regression**"
      ]
    },
    {
      "cell_type": "code",
      "metadata": {
        "id": "13wVgQpC9uvy",
        "colab_type": "code",
        "colab": {
          "base_uri": "https://localhost:8080/",
          "height": 54
        },
        "outputId": "e70e2bcd-157b-4e3b-cd02-1b102afed04e"
      },
      "source": [
        "from sklearn.tree import DecisionTreeRegressor\n",
        "decision_model = DecisionTreeRegressor(criterion='mse', max_depth=11, random_state=42)\n",
        "\n",
        "decision_model.fit(X_train, y_train)\n",
        "y_m=decision_model.predict(X_test)\n",
        "print(mean_absolute_error(y_test,y_m))\n",
        "print(\"Accuracy of the Decision Tree Regression Model on Training set is : {}% and on Test set is {}%\".format(round(decision_model.score(X_train, y_train),4)*100, round(decision_model.score(X_test, y_test),4)*100))"
      ],
      "execution_count": 36,
      "outputs": [
        {
          "output_type": "stream",
          "text": [
            "1.1288590604026847\n",
            "Accuracy of the Decision Tree Regression Model on Training set is : 100.0% and on Test set is 99.29%\n"
          ],
          "name": "stdout"
        }
      ]
    },
    {
      "cell_type": "markdown",
      "metadata": {
        "id": "-srH4ydV99cU",
        "colab_type": "text"
      },
      "source": [
        "**Random Forest Regression**"
      ]
    },
    {
      "cell_type": "code",
      "metadata": {
        "id": "RNjDRhNI9vs0",
        "colab_type": "code",
        "colab": {
          "base_uri": "https://localhost:8080/",
          "height": 54
        },
        "outputId": "60d14451-52eb-485c-9f0e-707b905c0c74"
      },
      "source": [
        "from sklearn.ensemble import RandomForestRegressor\n",
        "forest_model = RandomForestRegressor(n_estimators=100, criterion='mae', random_state=42)\n",
        "\n",
        "\n",
        "forest_model.fit(X_train, y_train)\n",
        "y_m=forest_model.predict(X_test)\n",
        "print(mean_absolute_error(y_test,y_m))\n",
        "\n",
        "print(\"Accuracy of the Random Forest Regression Model on Training set is : {}% and on Test set is {}%\".format(round(forest_model.score(X_train, y_train),4)*100, round(forest_model.score(X_test, y_test),4)*100))"
      ],
      "execution_count": 37,
      "outputs": [
        {
          "output_type": "stream",
          "text": [
            "0.7668288590604032\n",
            "Accuracy of the Random Forest Regression Model on Training set is : 99.97% and on Test set is 99.83%\n"
          ],
          "name": "stdout"
        }
      ]
    }
  ]
}