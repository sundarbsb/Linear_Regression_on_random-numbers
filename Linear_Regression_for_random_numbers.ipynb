{
  "nbformat": 4,
  "nbformat_minor": 0,
  "metadata": {
    "colab": {
      "name": "Linear_Regression_for_random_numbers.ipynb",
      "provenance": [],
      "authorship_tag": "ABX9TyNu31mcHkhG6D+bpC0IqCkn",
      "include_colab_link": true
    },
    "kernelspec": {
      "name": "python3",
      "display_name": "Python 3"
    }
  },
  "cells": [
    {
      "cell_type": "markdown",
      "metadata": {
        "id": "view-in-github",
        "colab_type": "text"
      },
      "source": [
        "<a href=\"https://colab.research.google.com/github/sundarbsb/machine-Learning/blob/master/Linear_Regression_for_random_numbers.ipynb\" target=\"_parent\"><img src=\"https://colab.research.google.com/assets/colab-badge.svg\" alt=\"Open In Colab\"/></a>"
      ]
    },
    {
      "cell_type": "markdown",
      "metadata": {
        "id": "uUqAjAyPH1Ip",
        "colab_type": "text"
      },
      "source": [
        "**Linear Regression for random numbers**"
      ]
    },
    {
      "cell_type": "code",
      "metadata": {
        "id": "PUwhEeCeBGTR",
        "colab_type": "code",
        "colab": {}
      },
      "source": [
        "import numpy as np\n",
        "from matplotlib import pyplot as plt\n",
        "rng = np.random.RandomState(42)\n",
        "x =10*rng.rand(50)\n",
        "y = 2 * x - 1 + rng.randn(50)\n",
        "plt.scatter(x, y);"
      ],
      "execution_count": null,
      "outputs": []
    },
    {
      "cell_type": "code",
      "metadata": {
        "id": "LoFQB3TDFyD6",
        "colab_type": "code",
        "colab": {}
      },
      "source": [
        "from sklearn.linear_model import LinearRegression\n",
        "model=LinearRegression(normalize=True)\n",
        "model"
      ],
      "execution_count": null,
      "outputs": []
    },
    {
      "cell_type": "code",
      "metadata": {
        "id": "B_3iwKMxGMEe",
        "colab_type": "code",
        "colab": {}
      },
      "source": [
        "X=x[:,np.newaxis]\n",
        "model.fit(X,y)"
      ],
      "execution_count": null,
      "outputs": []
    },
    {
      "cell_type": "code",
      "metadata": {
        "id": "iTKyl7g5Gm7n",
        "colab_type": "code",
        "colab": {}
      },
      "source": [
        "print(model.coef_)\n",
        "print(model.intercept_)"
      ],
      "execution_count": null,
      "outputs": []
    },
    {
      "cell_type": "code",
      "metadata": {
        "id": "8yW_E92GHIOY",
        "colab_type": "code",
        "colab": {}
      },
      "source": [
        "x_test=np.linspace(-1,11)\n",
        "x_test1=x_test[:,np.newaxis]\n",
        "y_test=model.predict(x_test1)\n",
        "plt.scatter(x,y)\n",
        "plt.plot(x_test,y_test)\n",
        "plt.title(\"Linear Regression on random numbers\")"
      ],
      "execution_count": null,
      "outputs": []
    }
  ]
}