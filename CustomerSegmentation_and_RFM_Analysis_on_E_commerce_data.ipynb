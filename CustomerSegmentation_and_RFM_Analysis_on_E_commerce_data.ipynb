{
  "nbformat": 4,
  "nbformat_minor": 0,
  "metadata": {
    "colab": {
      "name": "CustomerSegmentation_and_RFM_Analysis_on_E-commerce_data.ipynb",
      "provenance": [],
      "collapsed_sections": [],
      "include_colab_link": true
    },
    "kernelspec": {
      "name": "python3",
      "display_name": "Python 3"
    }
  },
  "cells": [
    {
      "cell_type": "markdown",
      "metadata": {
        "id": "view-in-github",
        "colab_type": "text"
      },
      "source": [
        "<a href=\"https://colab.research.google.com/github/sundarbsb/machine-Learning/blob/master/CustomerSegmentation_and_RFM_Analysis_on_E_commerce_data.ipynb\" target=\"_parent\"><img src=\"https://colab.research.google.com/assets/colab-badge.svg\" alt=\"Open In Colab\"/></a>"
      ]
    },
    {
      "cell_type": "markdown",
      "metadata": {
        "id": "24fzoO7LZg4v",
        "colab_type": "text"
      },
      "source": [
        "**`Importing modules`**\n"
      ]
    },
    {
      "cell_type": "code",
      "metadata": {
        "id": "KhjIaJYqX6SA",
        "colab_type": "code",
        "colab": {}
      },
      "source": [
        "# Importation of useful libraries\n",
        "import pandas as pd\n",
        "import numpy as np\n",
        "\n",
        "import matplotlib.pyplot as plt\n",
        "import matplotlib.lines as mlines\n",
        "import seaborn as sns\n",
        "\n",
        "import random \n",
        "import datetime as dt\n",
        "import re\n",
        "import pickle\n",
        "import nltk, warnings\n",
        "from nltk.tokenize import sent_tokenize, word_tokenize\n",
        "from nltk.corpus import stopwords\n",
        "nltk.download('stopwords')\n",
        "from nltk.stem import WordNetLemmatizer\n",
        "from string import digits, punctuation\n",
        "\n",
        "\n",
        "\n",
        "from scipy.stats import chi2_contingency\n",
        "\n",
        "from sklearn.preprocessing import LabelEncoder, StandardScaler, Normalizer\n",
        "from sklearn.preprocessing import StandardScaler\n",
        "from sklearn.cluster import KMeans\n",
        "from sklearn.metrics import silhouette_samples, silhouette_score\n",
        "from sklearn import preprocessing, model_selection, metrics, feature_selection\n",
        "from sklearn.model_selection import GridSearchCV, learning_curve\n",
        "from sklearn.svm import SVC\n",
        "from sklearn.metrics import confusion_matrix\n",
        "from sklearn import neighbors, linear_model, svm, tree, ensemble\n",
        "from sklearn.decomposition import PCA, TruncatedSVD\n",
        "from sklearn.manifold import TSNE\n",
        "from sklearn.feature_extraction.text import CountVectorizer, TfidfVectorizer\n",
        "\n",
        "from wordcloud import WordCloud, STOPWORDS\n",
        "\n",
        "warnings.filterwarnings(\"ignore\")\n",
        "plt.style.use('bmh')\n",
        "%matplotlib inline\n",
        "import os\n",
        "print(os.listdir())"
      ],
      "execution_count": null,
      "outputs": []
    },
    {
      "cell_type": "markdown",
      "metadata": {
        "id": "Nn8QtCPAagFR",
        "colab_type": "text"
      },
      "source": [
        "**`Data Cleaning`**\n"
      ]
    },
    {
      "cell_type": "code",
      "metadata": {
        "id": "_bkjeeVRajf7",
        "colab_type": "code",
        "colab": {}
      },
      "source": [
        "data = pd.read_csv(\"transaction_data.csv\", engine=\"python\", encoding=\"ISO-8859-1\", error_bad_lines=False)\n",
        "data.head(10)\n",
        "# data.info()"
      ],
      "execution_count": null,
      "outputs": []
    },
    {
      "cell_type": "markdown",
      "metadata": {
        "id": "at13n0D66iub",
        "colab_type": "text"
      },
      "source": [
        "Add the column - sales"
      ]
    },
    {
      "cell_type": "code",
      "metadata": {
        "id": "VyazLoZc6li5",
        "colab_type": "code",
        "colab": {}
      },
      "source": [
        "data['sales'] = data['NumberOfItemsPurchased'] * data['CostPerItem']"
      ],
      "execution_count": null,
      "outputs": []
    },
    {
      "cell_type": "markdown",
      "metadata": {
        "id": "ZUQmykrFiHQ6",
        "colab_type": "text"
      },
      "source": [
        "Graph of missing values"
      ]
    },
    {
      "cell_type": "code",
      "metadata": {
        "id": "lBK3trOGiKHm",
        "colab_type": "code",
        "colab": {}
      },
      "source": [
        "plt.figure(figsize=(5, 5))\n",
        "data.isnull().mean(axis=0).plot.barh()\n",
        "plt.title(\"Ratio of missing values per columns\")"
      ],
      "execution_count": null,
      "outputs": []
    },
    {
      "cell_type": "markdown",
      "metadata": {
        "id": "CYqBoAWNknpY",
        "colab_type": "text"
      },
      "source": [
        "It appears that we can't replace the missing values and we can't keep data without the value in the descriptions columns. So I'll simply delete the rows which have NaN values"
      ]
    },
    {
      "cell_type": "code",
      "metadata": {
        "id": "czt_tYQ1k1TA",
        "colab_type": "code",
        "colab": {}
      },
      "source": [
        "data = data.dropna(subset=[\"ItemDescription\"])"
      ],
      "execution_count": null,
      "outputs": []
    },
    {
      "cell_type": "markdown",
      "metadata": {
        "id": "LJZhizshlL9Y",
        "colab_type": "text"
      },
      "source": [
        "So once again plot the missing values graph"
      ]
    },
    {
      "cell_type": "code",
      "metadata": {
        "id": "bfUqyz-IlQGH",
        "colab_type": "code",
        "colab": {}
      },
      "source": [
        "plt.figure(figsize=(5, 5))\n",
        "data.isnull().mean(axis=0).plot.barh()\n",
        "plt.title(\"Ratio of missing values per columns\")"
      ],
      "execution_count": null,
      "outputs": []
    },
    {
      "cell_type": "markdown",
      "metadata": {
        "id": "3Bl3YwtClTkL",
        "colab_type": "text"
      },
      "source": [
        "There are no more missing values. I'll now check the dupplicate values and drop them if there's any."
      ]
    },
    {
      "cell_type": "code",
      "metadata": {
        "id": "jKrS-dCpMMRi",
        "colab_type": "code",
        "colab": {}
      },
      "source": [
        "print('Dupplicate entries: {}'.format(data.duplicated().sum()))\n",
        "data.drop_duplicates(inplace = True)"
      ],
      "execution_count": null,
      "outputs": []
    },
    {
      "cell_type": "code",
      "metadata": {
        "id": "BayVjNunlWXa",
        "colab_type": "code",
        "colab": {}
      },
      "source": [
        "data=data[data.UserId!=-1]"
      ],
      "execution_count": null,
      "outputs": []
    },
    {
      "cell_type": "markdown",
      "metadata": {
        "id": "FIev_--OnFZt",
        "colab_type": "text"
      },
      "source": [
        "Remove Quantity with negative values as it might be either mistakes or cancelled order"
      ]
    },
    {
      "cell_type": "code",
      "metadata": {
        "id": "qTZVq4rJwTlX",
        "colab_type": "code",
        "colab": {}
      },
      "source": [
        "data=data[data.NumberOfItemsPurchased>0]"
      ],
      "execution_count": null,
      "outputs": []
    },
    {
      "cell_type": "code",
      "metadata": {
        "id": "EjREiF1TTmUV",
        "colab_type": "code",
        "colab": {}
      },
      "source": [
        "data=data[data.ItemCode > 0]"
      ],
      "execution_count": null,
      "outputs": []
    },
    {
      "cell_type": "code",
      "metadata": {
        "id": "F9jqEqmoIwYg",
        "colab_type": "code",
        "colab": {}
      },
      "source": [
        "data[data['CostPerItem'] < 0]"
      ],
      "execution_count": null,
      "outputs": []
    },
    {
      "cell_type": "markdown",
      "metadata": {
        "id": "wodUVqpeJBgI",
        "colab_type": "text"
      },
      "source": [
        "So there is no negative value for cost per item"
      ]
    },
    {
      "cell_type": "markdown",
      "metadata": {
        "id": "j4poiqEd2m4x",
        "colab_type": "text"
      },
      "source": [
        "**Transaction Time** Changing the format"
      ]
    },
    {
      "cell_type": "code",
      "metadata": {
        "id": "T5e5fCEf2nD6",
        "colab_type": "code",
        "colab": {}
      },
      "source": [
        "data['TransactionTime']=pd.to_datetime(data['TransactionTime'],errors='ignore')"
      ],
      "execution_count": null,
      "outputs": []
    },
    {
      "cell_type": "code",
      "metadata": {
        "id": "T2quGCGQrMiN",
        "colab_type": "code",
        "colab": {}
      },
      "source": [
        "data.TransactionTime.describe()"
      ],
      "execution_count": null,
      "outputs": []
    },
    {
      "cell_type": "markdown",
      "metadata": {
        "id": "0rRNOdoTl9Gz",
        "colab_type": "text"
      },
      "source": [
        "**`Exploratory Data Analysis`**"
      ]
    },
    {
      "cell_type": "markdown",
      "metadata": {
        "id": "Y5JY8bqBpuEB",
        "colab_type": "text"
      },
      "source": [
        "**Country**"
      ]
    },
    {
      "cell_type": "code",
      "metadata": {
        "id": "YMnb22lOmHRM",
        "colab_type": "code",
        "colab": {}
      },
      "source": [
        "data.Country.nunique()"
      ],
      "execution_count": null,
      "outputs": []
    },
    {
      "cell_type": "code",
      "metadata": {
        "id": "OjFuc-YWmWys",
        "colab_type": "code",
        "colab": {}
      },
      "source": [
        "# customer_country=data[['Country','UserId']].drop_duplicates()\n",
        "# customer_country.groupby(['Country'])['UserId'].aggregate('count').reset_index().sort_values('UserId', ascending=False)\n",
        "\n",
        "uk_count = data[data['Country'] == 'United Kingdom']['Country'].count()\n",
        "all_count = data['Country'].count()\n",
        "uk_perc = uk_count/all_count\n",
        "print(str('{0:.2f}%').format(uk_perc*100))"
      ],
      "execution_count": null,
      "outputs": []
    },
    {
      "cell_type": "markdown",
      "metadata": {
        "id": "Vm7MMZpxpFWR",
        "colab_type": "text"
      },
      "source": [
        "Therefore, nearly 89% of the sales are from United Kingdom"
      ]
    },
    {
      "cell_type": "markdown",
      "metadata": {
        "id": "_whTF-m3D-0D",
        "colab_type": "text"
      },
      "source": [
        "**Checking out columns separately**"
      ]
    },
    {
      "cell_type": "code",
      "metadata": {
        "id": "digLR7LBDKBf",
        "colab_type": "code",
        "colab": {}
      },
      "source": [
        "item_counts = data['ItemDescription'].value_counts().sort_values(ascending=False).iloc[0:15]\n",
        "plt.figure(figsize=(18,6))\n",
        "sns.barplot(item_counts.index, item_counts.values, palette=sns.cubehelix_palette(15))\n",
        "plt.ylabel(\"Counts\")\n",
        "plt.title(\"Which items were bought more often?\");\n",
        "plt.xticks(rotation=90);"
      ],
      "execution_count": null,
      "outputs": []
    },
    {
      "cell_type": "markdown",
      "metadata": {
        "id": "wQ_jA3YpDG7Z",
        "colab_type": "text"
      },
      "source": [
        "Best Selling product is **white hanging heart t-light holder**"
      ]
    },
    {
      "cell_type": "markdown",
      "metadata": {
        "id": "du0N-SG1HKRS",
        "colab_type": "text"
      },
      "source": [
        "Now lets analyse description\n",
        "\n",
        "Quick check of the case sensitive of letters in Description whether it says that there are some units with lower case letters in their name or not and also check that lower case records are for canceled items or not. Here we can understand that data management in the store can be improved."
      ]
    },
    {
      "cell_type": "code",
      "metadata": {
        "id": "jWqgga1bD_Af",
        "colab_type": "code",
        "colab": {}
      },
      "source": [
        "data[~data['ItemDescription'].str.isupper()]['ItemDescription'].value_counts().head()"
      ],
      "execution_count": null,
      "outputs": []
    },
    {
      "cell_type": "code",
      "metadata": {
        "id": "a_M7uFh6FZzl",
        "colab_type": "code",
        "colab": {}
      },
      "source": [
        "lcase_counts = data[~data['ItemDescription'].str.isupper()]['ItemDescription'].value_counts().sort_values(ascending=False).iloc[0:15]\n",
        "plt.figure(figsize=(18,6))\n",
        "sns.barplot(lcase_counts.index, lcase_counts.values, palette=sns.color_palette(\"hls\", 15))\n",
        "plt.ylabel(\"Counts\")\n",
        "plt.title(\"Not full upper case items\");\n",
        "plt.xticks(rotation=90);"
      ],
      "execution_count": null,
      "outputs": []
    },
    {
      "cell_type": "markdown",
      "metadata": {
        "id": "xtoeJE9oHxDh",
        "colab_type": "text"
      },
      "source": [
        "Also checking for Transactions Id's"
      ]
    },
    {
      "cell_type": "code",
      "metadata": {
        "id": "UzQ-D6miH55E",
        "colab_type": "code",
        "colab": {}
      },
      "source": [
        "data['TransactionId'].value_counts().tail()"
      ],
      "execution_count": null,
      "outputs": []
    },
    {
      "cell_type": "markdown",
      "metadata": {
        "id": "8H0S5d3dIA6g",
        "colab_type": "text"
      },
      "source": [
        "So, Therefore it is confirmed that every Transaction Id and description wont show any kind of information on cancelled items"
      ]
    },
    {
      "cell_type": "markdown",
      "metadata": {
        "id": "CE_G8HWaTG_X",
        "colab_type": "text"
      },
      "source": [
        "**Now, Lets check for Outliers**"
      ]
    },
    {
      "cell_type": "code",
      "metadata": {
        "id": "zpVL46OqS6HR",
        "colab_type": "code",
        "colab": {}
      },
      "source": [
        "data.describe()"
      ],
      "execution_count": null,
      "outputs": []
    },
    {
      "cell_type": "markdown",
      "metadata": {
        "id": "DF9aKACTUUe9",
        "colab_type": "text"
      },
      "source": [
        "The minimum value for the unitprice is 0, let's see why is that."
      ]
    },
    {
      "cell_type": "code",
      "metadata": {
        "id": "M811WJPoUsnO",
        "colab_type": "code",
        "colab": {}
      },
      "source": [
        "data[(data['CostPerItem'] == 0)].head(5)"
      ],
      "execution_count": null,
      "outputs": []
    },
    {
      "cell_type": "markdown",
      "metadata": {
        "id": "zY9u2mmgVOVE",
        "colab_type": "text"
      },
      "source": [
        "\n",
        "\n",
        "I am tempted to replace the null values by the most common one but it might be a special discount or something else so I'll leave it like that"
      ]
    },
    {
      "cell_type": "markdown",
      "metadata": {
        "id": "vRKKktkuXjGh",
        "colab_type": "text"
      },
      "source": [
        "**Now Let's do Feature Engineering**"
      ]
    },
    {
      "cell_type": "code",
      "metadata": {
        "id": "rVtelOJvXq1U",
        "colab_type": "code",
        "colab": {}
      },
      "source": [
        "def unique_counts(data):\n",
        "   for i in data.columns:\n",
        "       count = data[i].nunique()\n",
        "       print(i, \": \", count)\n",
        "unique_counts(data)"
      ],
      "execution_count": null,
      "outputs": []
    },
    {
      "cell_type": "markdown",
      "metadata": {
        "id": "yFOECzvWYCUw",
        "colab_type": "text"
      },
      "source": [
        "Now Lets see sales(Total Revenue) of each country"
      ]
    },
    {
      "cell_type": "code",
      "metadata": {
        "id": "wtCxd4RjYCif",
        "colab_type": "code",
        "colab": {}
      },
      "source": [
        "revenue_per_countries = data.groupby([\"Country\"])[\"sales\"].sum().sort_values()\n",
        "revenue_per_countries.plot(kind='barh', figsize=(15,12))\n",
        "plt.title(\"Revenue per Country\") "
      ],
      "execution_count": null,
      "outputs": []
    },
    {
      "cell_type": "markdown",
      "metadata": {
        "id": "uQxD8C15YpEw",
        "colab_type": "text"
      },
      "source": [
        "Lets see total No of item codes of each country"
      ]
    },
    {
      "cell_type": "code",
      "metadata": {
        "id": "nYd32K65Yw11",
        "colab_type": "code",
        "colab": {}
      },
      "source": [
        "No_invoice_per_country = data.groupby([\"Country\"])[\"ItemCode\"].count().sort_values()\n",
        "No_invoice_per_country.plot(kind='barh', figsize=(15,12))\n",
        "plt.title(\"Number of Invoices per Country\")"
      ],
      "execution_count": null,
      "outputs": []
    },
    {
      "cell_type": "markdown",
      "metadata": {
        "id": "trZGvZ_ZZV_a",
        "colab_type": "text"
      },
      "source": [
        "\n",
        "\n",
        "This is very interesting since we can see that Netherlands is the 2nd country in value even though it has less invoices than countries like Germany or France for example and nearly 10 times less customers"
      ]
    },
    {
      "cell_type": "markdown",
      "metadata": {
        "id": "PgbQaSR8Zej7",
        "colab_type": "text"
      },
      "source": [
        "Now Lets Label countries"
      ]
    },
    {
      "cell_type": "code",
      "metadata": {
        "id": "NLzo2W2UZknD",
        "colab_type": "code",
        "colab": {}
      },
      "source": [
        "le = LabelEncoder()\n",
        "le.fit(data['Country'])\n",
        "l = [i for i in range(37)]\n",
        "dict(zip(list(le.classes_),l))"
      ],
      "execution_count": null,
      "outputs": []
    },
    {
      "cell_type": "code",
      "metadata": {
        "id": "FCeSVLXnaQ-c",
        "colab_type": "code",
        "colab": {}
      },
      "source": [
        "data['Country'] = le.transform(data['Country'])"
      ],
      "execution_count": null,
      "outputs": []
    },
    {
      "cell_type": "code",
      "metadata": {
        "id": "aG9QrrvNcQPi",
        "colab_type": "code",
        "colab": {}
      },
      "source": [
        "with open('labelencoder.pickle', 'wb') as g:\n",
        "    pickle.dump(le, g)"
      ],
      "execution_count": null,
      "outputs": []
    },
    {
      "cell_type": "code",
      "metadata": {
        "id": "YcJNEeOgcQfb",
        "colab_type": "code",
        "colab": {}
      },
      "source": [
        "data.head(5)"
      ],
      "execution_count": null,
      "outputs": []
    },
    {
      "cell_type": "markdown",
      "metadata": {
        "id": "CjZ3la5EV1v9",
        "colab_type": "text"
      },
      "source": [
        "RFM Principle"
      ]
    },
    {
      "cell_type": "code",
      "metadata": {
        "id": "m8jiqw_jV2EM",
        "colab_type": "code",
        "colab": {}
      },
      "source": [
        "data['TransactionTime'].min()"
      ],
      "execution_count": null,
      "outputs": []
    },
    {
      "cell_type": "code",
      "metadata": {
        "id": "4q48qB7VgDnD",
        "colab_type": "code",
        "colab": {}
      },
      "source": [
        "data['TransactionTime'].max()"
      ],
      "execution_count": null,
      "outputs": []
    },
    {
      "cell_type": "markdown",
      "metadata": {
        "id": "1KvPHQdzbra5",
        "colab_type": "text"
      },
      "source": [
        "Here Outlier is there in Transaction Time, I'll change it now"
      ]
    },
    {
      "cell_type": "code",
      "metadata": {
        "id": "HPiKo04JXuAN",
        "colab_type": "code",
        "colab": {}
      },
      "source": [
        "data=data[data.TransactionTime<\"2019-03-01 13:19:00\"]\n",
        "data['TransactionTime'].max()"
      ],
      "execution_count": null,
      "outputs": []
    },
    {
      "cell_type": "code",
      "metadata": {
        "id": "6t-16uzcjaAu",
        "colab_type": "code",
        "colab": {}
      },
      "source": [
        "data['TransactionTime'] = pd.to_datetime(data['TransactionTime'])\n",
        "NOW = dt.datetime(2019, 2, 21)"
      ],
      "execution_count": null,
      "outputs": []
    },
    {
      "cell_type": "code",
      "metadata": {
        "id": "MEQiPNQjdu0L",
        "colab_type": "code",
        "colab": {}
      },
      "source": [
        "custom_aggregation = {}\n",
        "custom_aggregation[\"TransactionTime\"] = lambda x:x.iloc[0]\n",
        "custom_aggregation[\"UserId\"] = lambda x:x.iloc[0]\n",
        "custom_aggregation[\"sales\"] = \"sum\"\n",
        "\n",
        "\n",
        "rfmTable = data.groupby(\"TransactionId\").agg(custom_aggregation)"
      ],
      "execution_count": null,
      "outputs": []
    },
    {
      "cell_type": "code",
      "metadata": {
        "id": "0xQSQ7BxedKa",
        "colab_type": "code",
        "colab": {}
      },
      "source": [
        "rfmTable[\"Recency\"] = NOW - rfmTable[\"TransactionTime\"]\n",
        "rfmTable[\"Recency\"] = pd.to_timedelta(rfmTable[\"Recency\"]).astype(\"timedelta64[D]\")"
      ],
      "execution_count": null,
      "outputs": []
    },
    {
      "cell_type": "code",
      "metadata": {
        "id": "ZI0CdVdulgcd",
        "colab_type": "code",
        "colab": {}
      },
      "source": [
        "rfmTable.head()"
      ],
      "execution_count": null,
      "outputs": []
    },
    {
      "cell_type": "code",
      "metadata": {
        "id": "f0t5FwgdmInP",
        "colab_type": "code",
        "colab": {}
      },
      "source": [
        "custom_aggregation = {}\n",
        "\n",
        "custom_aggregation[\"Recency\"] = [\"min\", \"max\"]\n",
        "custom_aggregation[\"TransactionTime\"] = lambda x: len(x)\n",
        "custom_aggregation[\"sales\"] = \"sum\"\n",
        "\n",
        "rfmTable_final = rfmTable.groupby(\"UserId\").agg(custom_aggregation)"
      ],
      "execution_count": null,
      "outputs": []
    },
    {
      "cell_type": "code",
      "metadata": {
        "id": "qy-P4a0QmWJr",
        "colab_type": "code",
        "colab": {}
      },
      "source": [
        "rfmTable_final.columns = [\"min_recency\", \"max_recency\", \"frequency\", \"monetary_value\"]"
      ],
      "execution_count": null,
      "outputs": []
    },
    {
      "cell_type": "code",
      "metadata": {
        "id": "udOFM8-XoRo_",
        "colab_type": "code",
        "colab": {}
      },
      "source": [
        "rfmTable_final.frequency.describe()"
      ],
      "execution_count": null,
      "outputs": []
    },
    {
      "cell_type": "code",
      "metadata": {
        "id": "zC-gAqt-mZ2T",
        "colab_type": "code",
        "colab": {}
      },
      "source": [
        "# rfmTable_final.head(5)\n",
        "x_customer = rfmTable_final[rfmTable_final['frequency']==205]\n",
        "x_customer.head()"
      ],
      "execution_count": null,
      "outputs": []
    },
    {
      "cell_type": "code",
      "metadata": {
        "id": "vwn_JnTdnbdY",
        "colab_type": "code",
        "colab": {}
      },
      "source": [
        "x_customer = data[data['UserId']==267708]\n",
        "x_customer.head(5)"
      ],
      "execution_count": null,
      "outputs": []
    },
    {
      "cell_type": "markdown",
      "metadata": {
        "id": "g1K0hM9xpT-u",
        "colab_type": "text"
      },
      "source": [
        "Therefore (267708) brought a lot of products(205)\n",
        "\n",
        "\n",
        "\n"
      ]
    },
    {
      "cell_type": "code",
      "metadata": {
        "id": "TDNnpdoUn_tI",
        "colab_type": "code",
        "colab": {}
      },
      "source": [
        "quantiles = rfmTable_final.quantile(q=[0.25,0.5,0.75])\n",
        "quantiles = quantiles.to_dict()"
      ],
      "execution_count": null,
      "outputs": []
    },
    {
      "cell_type": "code",
      "metadata": {
        "id": "42M-BwTppgSy",
        "colab_type": "code",
        "colab": {}
      },
      "source": [
        "segmented_rfm = rfmTable_final"
      ],
      "execution_count": null,
      "outputs": []
    },
    {
      "cell_type": "code",
      "metadata": {
        "id": "lRul3lHBpn1F",
        "colab_type": "code",
        "colab": {}
      },
      "source": [
        "def RScore(x,p,d):\n",
        "    if x <= d[p][0.25]:\n",
        "        return 1\n",
        "    elif x <= d[p][0.50]:\n",
        "        return 2\n",
        "    elif x <= d[p][0.75]: \n",
        "        return 3\n",
        "    else:\n",
        "        return 4\n",
        "    \n",
        "def FMScore(x,p,d):\n",
        "    if x <= d[p][0.25]:\n",
        "        return 4\n",
        "    elif x <= d[p][0.50]:\n",
        "        return 3\n",
        "    elif x <= d[p][0.75]: \n",
        "        return 2\n",
        "    else:\n",
        "        return 1"
      ],
      "execution_count": null,
      "outputs": []
    },
    {
      "cell_type": "markdown",
      "metadata": {
        "id": "7LWCLC6yppfY",
        "colab_type": "text"
      },
      "source": [
        "Here we'll apply a score on each feature of RFM\n"
      ]
    },
    {
      "cell_type": "code",
      "metadata": {
        "id": "Ki242jSKp2lN",
        "colab_type": "code",
        "colab": {}
      },
      "source": [
        "segmented_rfm['r_quartile'] = segmented_rfm['min_recency'].apply(RScore, args=('min_recency',quantiles,))\n",
        "segmented_rfm['f_quartile'] = segmented_rfm['frequency'].apply(FMScore, args=('frequency',quantiles,))\n",
        "segmented_rfm['m_quartile'] = segmented_rfm['monetary_value'].apply(FMScore, args=('monetary_value',quantiles,))\n",
        "# segmented_rfm.head()"
      ],
      "execution_count": null,
      "outputs": []
    },
    {
      "cell_type": "markdown",
      "metadata": {
        "id": "zoX-9sXap7es",
        "colab_type": "text"
      },
      "source": [
        "Finally we'll set a score for each customer in the database."
      ]
    },
    {
      "cell_type": "code",
      "metadata": {
        "id": "A0y07eQTp90Z",
        "colab_type": "code",
        "colab": {}
      },
      "source": [
        "segmented_rfm['RFMScore'] = segmented_rfm.r_quartile.map(str) + segmented_rfm.f_quartile.map(str) + segmented_rfm.m_quartile.map(str)\n",
        "segmented_rfm.head()"
      ],
      "execution_count": null,
      "outputs": []
    },
    {
      "cell_type": "code",
      "metadata": {
        "id": "foGfH5vuqhi9",
        "colab_type": "code",
        "colab": {}
      },
      "source": [
        "segmented_rfm[segmented_rfm['RFMScore']=='111'].sort_values('monetary_value', ascending=False)"
      ],
      "execution_count": null,
      "outputs": []
    },
    {
      "cell_type": "markdown",
      "metadata": {
        "id": "UHzqovmEqtpB",
        "colab_type": "text"
      },
      "source": [
        "Here we have an example of customers with a score of 111 which means that they are classified as our best customers."
      ]
    },
    {
      "cell_type": "code",
      "metadata": {
        "id": "i0Eu-RX3qvHO",
        "colab_type": "code",
        "colab": {}
      },
      "source": [
        "segmented_rfm = segmented_rfm.reset_index()\n",
        "segmented_rfm.head(5)"
      ],
      "execution_count": null,
      "outputs": []
    },
    {
      "cell_type": "code",
      "metadata": {
        "id": "sheB1SIeq-8r",
        "colab_type": "code",
        "colab": {}
      },
      "source": [
        "data = pd.merge(data,segmented_rfm, on='UserId')"
      ],
      "execution_count": null,
      "outputs": []
    },
    {
      "cell_type": "code",
      "metadata": {
        "id": "tkXxznf7rGom",
        "colab_type": "code",
        "colab": {}
      },
      "source": [
        "data.columns"
      ],
      "execution_count": null,
      "outputs": []
    },
    {
      "cell_type": "markdown",
      "metadata": {
        "id": "Ed-tQWPtxFjx",
        "colab_type": "text"
      },
      "source": [
        "As we calculated our final RMS score now we can drop individual quartiles to make our data simple"
      ]
    },
    {
      "cell_type": "code",
      "metadata": {
        "id": "NBT5WAzhxQSR",
        "colab_type": "code",
        "colab": {}
      },
      "source": [
        "data = data.drop(columns=['r_quartile', 'f_quartile', 'm_quartile'])"
      ],
      "execution_count": null,
      "outputs": []
    },
    {
      "cell_type": "markdown",
      "metadata": {
        "id": "7Yyaj0_e_qnQ",
        "colab_type": "text"
      },
      "source": [
        "Our RMS analysis is done\n",
        "\n",
        "Clear Analysis Report will be given in Explanation.\n",
        "\n",
        "\n",
        "\n",
        "Now Lets do K-means clustering"
      ]
    },
    {
      "cell_type": "markdown",
      "metadata": {
        "id": "Uy_eqbzS5C_D",
        "colab_type": "text"
      },
      "source": [
        "Creating Time Features and checking if there are any paterns due to seasonality."
      ]
    },
    {
      "cell_type": "code",
      "metadata": {
        "id": "zUudiQei6Zqf",
        "colab_type": "code",
        "colab": {}
      },
      "source": [
        "data['Month'] = data[\"TransactionTime\"].map(lambda x: x.month)"
      ],
      "execution_count": null,
      "outputs": []
    },
    {
      "cell_type": "code",
      "metadata": {
        "id": "aR921aWm63NS",
        "colab_type": "code",
        "colab": {}
      },
      "source": [
        "data['Month'].value_counts()"
      ],
      "execution_count": null,
      "outputs": []
    },
    {
      "cell_type": "code",
      "metadata": {
        "id": "GDXllxg_6_Nw",
        "colab_type": "code",
        "colab": {}
      },
      "source": [
        "data['Weekday'] = data[\"TransactionTime\"].map(lambda x: x.weekday())\n",
        "data['Day'] = data[\"TransactionTime\"].map(lambda x: x.day)\n",
        "data['Hour'] = data[\"TransactionTime\"].map(lambda x: x.hour)"
      ],
      "execution_count": null,
      "outputs": []
    },
    {
      "cell_type": "markdown",
      "metadata": {
        "id": "crDUwtnHzCka",
        "colab_type": "text"
      },
      "source": [
        "Product Categories"
      ]
    },
    {
      "cell_type": "code",
      "metadata": {
        "id": "-t3XD4yn0qfv",
        "colab_type": "code",
        "colab": {}
      },
      "source": [
        "X = data[\"ItemDescription\"].unique()\n",
        "\n",
        "stemmer = nltk.stem.porter.PorterStemmer()\n",
        "stopword = nltk.corpus.stopwords.words('english')"
      ],
      "execution_count": null,
      "outputs": []
    },
    {
      "cell_type": "code",
      "metadata": {
        "id": "r8tEmNQO7SeP",
        "colab_type": "code",
        "colab": {}
      },
      "source": [
        "def stem_and_filter(doc):\n",
        "    tokens = [stemmer.stem(w) for w in analyzer(doc)]\n",
        "    return [token for token in tokens if token.isalpha()]\n",
        "\n",
        "analyzer = TfidfVectorizer().build_analyzer()\n",
        "CV = TfidfVectorizer(lowercase=True, stop_words=\"english\", analyzer=stem_and_filter, min_df=0.00, max_df=0.3)  # we remove words if it appears in more than 30 % of the corpus (not found stopwords like Box, Christmas and so on)\n",
        "TF_IDF_matrix = CV.fit_transform(X)\n",
        "print(\"TF_IDF_matrix :\", TF_IDF_matrix.shape, \"of\", TF_IDF_matrix.dtype)"
      ],
      "execution_count": null,
      "outputs": []
    },
    {
      "cell_type": "code",
      "metadata": {
        "id": "v1OvBMt709PX",
        "colab_type": "code",
        "colab": {}
      },
      "source": [
        "svd = TruncatedSVD(n_components = 100)\n",
        "normalizer = Normalizer(copy=False)\n",
        "\n",
        "TF_IDF_embedded = svd.fit_transform(TF_IDF_matrix)\n",
        "TF_IDF_embedded = normalizer.fit_transform(TF_IDF_embedded)\n",
        "print(\"TF_IDF_embedded :\", TF_IDF_embedded.shape, \"of\", TF_IDF_embedded.dtype)"
      ],
      "execution_count": null,
      "outputs": []
    },
    {
      "cell_type": "code",
      "metadata": {
        "id": "nluSse1E1MqL",
        "colab_type": "code",
        "colab": {}
      },
      "source": [
        "score_tfidf = []\n",
        "\n",
        "x = list(range(5, 155, 10))\n",
        "\n",
        "for n_clusters in x:\n",
        "    kmeans = KMeans(init='k-means++', n_clusters = n_clusters, n_init=10)\n",
        "    kmeans.fit(TF_IDF_embedded)\n",
        "    clusters = kmeans.predict(TF_IDF_embedded)\n",
        "    silhouette_avg = silhouette_score(TF_IDF_embedded, clusters)\n",
        "\n",
        "    rep = np.histogram(clusters, bins = n_clusters-1)[0]\n",
        "    score_tfidf.append(silhouette_avg)"
      ],
      "execution_count": null,
      "outputs": []
    },
    {
      "cell_type": "code",
      "metadata": {
        "id": "DJKIygmb1Dxn",
        "colab_type": "code",
        "colab": {}
      },
      "source": [
        "plt.figure(figsize=(20,16))\n",
        "\n",
        "plt.subplot(2, 1, 1)\n",
        "plt.plot(x, score_tfidf, label=\"TF-IDF matrix\")\n",
        "plt.title(\"Evolution of the Silhouette Score\")\n",
        "plt.legend()"
      ],
      "execution_count": null,
      "outputs": []
    },
    {
      "cell_type": "markdown",
      "metadata": {
        "id": "-TOXe7zx1okV",
        "colab_type": "text"
      },
      "source": [
        "The highest value for the silhouette score is when there are 105 clusters. So we'll chose this value."
      ]
    },
    {
      "cell_type": "code",
      "metadata": {
        "id": "XhJmPnCh1xOZ",
        "colab_type": "code",
        "colab": {}
      },
      "source": [
        "n_clusters = 105\n",
        "\n",
        "kmeans = KMeans(init='k-means++', n_clusters = n_clusters, n_init=30, random_state=0)\n",
        "proj = kmeans.fit_transform(TF_IDF_embedded)\n",
        "clusters = kmeans.predict(TF_IDF_embedded)\n",
        "plt.figure(figsize=(10,10))\n",
        "plt.scatter(proj[:,0], proj[:,1], c=clusters)\n",
        "plt.title(\"ACP with 105 clusters\", fontsize=\"20\")"
      ],
      "execution_count": null,
      "outputs": []
    },
    {
      "cell_type": "code",
      "metadata": {
        "id": "a-XUU1TI1-Or",
        "colab_type": "code",
        "colab": {}
      },
      "source": [
        "tsne = TSNE(n_components=2)\n",
        "proj = tsne.fit_transform(TF_IDF_embedded)\n",
        "\n",
        "plt.figure(figsize=(10,10))\n",
        "plt.scatter(proj[:,0], proj[:,1], c=clusters)\n",
        "plt.title(\"Visualization of the clustering with TSNE\", fontsize=\"20\")"
      ],
      "execution_count": null,
      "outputs": []
    },
    {
      "cell_type": "code",
      "metadata": {
        "id": "ibRC2aDW2KMI",
        "colab_type": "code",
        "colab": {}
      },
      "source": [
        "plt.figure(figsize=(20,8))\n",
        "wc = WordCloud()\n",
        "\n",
        "for num, cluster in enumerate(random.sample(range(100), 12)) :\n",
        "    plt.subplot(3, 4, num+1)\n",
        "    wc.generate(\" \".join(X[np.where(clusters==cluster)]))\n",
        "    plt.imshow(wc, interpolation='bilinear')\n",
        "    plt.title(\"Cluster {}\".format(cluster))\n",
        "    plt.axis(\"off\")\n",
        "plt.figure()"
      ],
      "execution_count": null,
      "outputs": []
    },
    {
      "cell_type": "code",
      "metadata": {
        "id": "ZQl6RjW32Wdr",
        "colab_type": "code",
        "colab": {}
      },
      "source": [
        "pd.Series(clusters).hist(bins=100)"
      ],
      "execution_count": null,
      "outputs": []
    },
    {
      "cell_type": "code",
      "metadata": {
        "id": "7Z1ekV4P2ay1",
        "colab_type": "code",
        "colab": {}
      },
      "source": [
        "dict_article_to_cluster = {article : cluster for article, cluster in zip(X, clusters)}"
      ],
      "execution_count": null,
      "outputs": []
    },
    {
      "cell_type": "code",
      "metadata": {
        "id": "mBh0YCMV2fav",
        "colab_type": "code",
        "colab": {}
      },
      "source": [
        "with open('product_clusters.pickle', 'wb') as h:\n",
        "    pickle.dump(dict_article_to_cluster, h)"
      ],
      "execution_count": null,
      "outputs": []
    },
    {
      "cell_type": "markdown",
      "metadata": {
        "id": "kQI3vhb_2t57",
        "colab_type": "text"
      },
      "source": [
        "**Creating customer categories**\n",
        "\n",
        "\n"
      ]
    },
    {
      "cell_type": "markdown",
      "metadata": {
        "id": "1Vf6U1ls2yzU",
        "colab_type": "text"
      },
      "source": [
        "Intermediate dataset grouped by invoices"
      ]
    },
    {
      "cell_type": "code",
      "metadata": {
        "id": "C1Kpu58x22kV",
        "colab_type": "code",
        "colab": {}
      },
      "source": [
        "cluster = data['ItemDescription'].apply(lambda x : dict_article_to_cluster[x])\n",
        "df2 = pd.get_dummies(cluster, prefix=\"Cluster\").mul(data[\"sales\"], 0)\n",
        "df2 = pd.concat([data['TransactionId'], df2], axis=1)\n",
        "df2_grouped = df2.groupby('TransactionId').sum()"
      ],
      "execution_count": null,
      "outputs": []
    },
    {
      "cell_type": "code",
      "metadata": {
        "id": "t71Qrek_3SY1",
        "colab_type": "code",
        "colab": {}
      },
      "source": [
        "custom_aggregation = {}\n",
        "custom_aggregation[\"sales\"] = lambda x:x.iloc[0]\n",
        "custom_aggregation[\"min_recency\"] = lambda x:x.iloc[0]\n",
        "custom_aggregation[\"max_recency\"] = lambda x:x.iloc[0]\n",
        "custom_aggregation[\"frequency\"] = lambda x:x.iloc[0]\n",
        "custom_aggregation[\"monetary_value\"] = lambda x:x.iloc[0]\n",
        "custom_aggregation[\"UserId\"] = lambda x:x.iloc[0]\n",
        "custom_aggregation[\"NumberOfItemsPurchased\"] = \"sum\"\n",
        "custom_aggregation[\"Country\"] = lambda x:x.iloc[0]\n",
        "\n",
        "\n",
        "df_grouped = data.groupby(\"TransactionId\").agg(custom_aggregation)"
      ],
      "execution_count": null,
      "outputs": []
    },
    {
      "cell_type": "markdown",
      "metadata": {
        "id": "Pj1l04tT3n5G",
        "colab_type": "text"
      },
      "source": [
        " Final dataset grouped by customers\n"
      ]
    },
    {
      "cell_type": "code",
      "metadata": {
        "id": "WfdTHzTC3sQX",
        "colab_type": "code",
        "colab": {}
      },
      "source": [
        "df2_grouped_final = pd.concat([df_grouped['UserId'], df2_grouped], axis=1).set_index(\"UserId\").groupby(\"UserId\").sum()\n",
        "df2_grouped_final = df2_grouped_final.div(df2_grouped_final.sum(axis=1), axis=0)\n",
        "df2_grouped_final = df2_grouped_final.fillna(0)"
      ],
      "execution_count": null,
      "outputs": []
    },
    {
      "cell_type": "code",
      "metadata": {
        "id": "OlC78fG23aUj",
        "colab_type": "code",
        "colab": {}
      },
      "source": [
        "data.columns"
      ],
      "execution_count": null,
      "outputs": []
    },
    {
      "cell_type": "code",
      "metadata": {
        "id": "OM4uVDL6347J",
        "colab_type": "code",
        "colab": {}
      },
      "source": [
        "custom_aggregation = {}\n",
        "custom_aggregation[\"sales\"] = ['min','max','mean']\n",
        "custom_aggregation[\"min_recency\"] = lambda x:x.iloc[0]\n",
        "custom_aggregation[\"max_recency\"] = lambda x:x.iloc[0]\n",
        "custom_aggregation[\"frequency\"] = lambda x:x.iloc[0]\n",
        "custom_aggregation[\"monetary_value\"] = lambda x:x.iloc[0]\n",
        "custom_aggregation[\"NumberOfItemsPurchased\"] = \"sum\"\n",
        "custom_aggregation[\"Country\"] = lambda x:x.iloc[0]\n",
        "\n",
        "df_grouped_final = df_grouped.groupby(\"UserId\").agg(custom_aggregation)"
      ],
      "execution_count": null,
      "outputs": []
    },
    {
      "cell_type": "code",
      "metadata": {
        "id": "-Tpa3Wxx4MOH",
        "colab_type": "code",
        "colab": {}
      },
      "source": [
        "df_grouped_final.columns = [\"min\", \"max\", \"mean\", \"min_recency\", \"max_recency\", \"frequency\", \"monetary_value\", \"NumberOfItemsPurchased\", \"Country\"]"
      ],
      "execution_count": null,
      "outputs": []
    },
    {
      "cell_type": "code",
      "metadata": {
        "id": "VDX2sn7-4aju",
        "colab_type": "code",
        "colab": {}
      },
      "source": [
        "df_grouped_final.head(5)"
      ],
      "execution_count": null,
      "outputs": []
    },
    {
      "cell_type": "code",
      "metadata": {
        "id": "IJxMEVZk4gc2",
        "colab_type": "code",
        "colab": {}
      },
      "source": [
        "df2_grouped_final.head(5)"
      ],
      "execution_count": null,
      "outputs": []
    },
    {
      "cell_type": "markdown",
      "metadata": {
        "id": "yezIAvAG4n-d",
        "colab_type": "text"
      },
      "source": [
        "Now lets Cluster Customers"
      ]
    },
    {
      "cell_type": "code",
      "metadata": {
        "id": "qBHoObvv4rT1",
        "colab_type": "code",
        "colab": {}
      },
      "source": [
        "X1 = df_grouped_final.to_numpy()\n",
        "X2 = df2_grouped_final.to_numpy()\n",
        "\n",
        "scaler = StandardScaler()\n",
        "X1 = scaler.fit_transform(X1)\n",
        "X_final_std_scale = np.concatenate((X1, X2), axis=1)"
      ],
      "execution_count": null,
      "outputs": []
    },
    {
      "cell_type": "code",
      "metadata": {
        "id": "PqWgxJalL2N0",
        "colab_type": "code",
        "colab": {}
      },
      "source": [
        "x = list(range(2, 12))\n",
        "y_std = []\n",
        "for n_clusters in x:\n",
        "    print(\"n_clusters =\", n_clusters)\n",
        "    \n",
        "    kmeans = KMeans(init='k-means++', n_clusters = n_clusters, n_init=10)\n",
        "    kmeans.fit(X_final_std_scale)\n",
        "    clusters = kmeans.predict(X_final_std_scale)\n",
        "    silhouette_avg = silhouette_score(X_final_std_scale, clusters)\n",
        "    y_std.append(silhouette_avg)\n",
        "    print(\"The average silhouette_score is :\", silhouette_avg, \"with Std Scaling\")"
      ],
      "execution_count": null,
      "outputs": []
    },
    {
      "cell_type": "markdown",
      "metadata": {
        "id": "AAScJjCSMABi",
        "colab_type": "text"
      },
      "source": [
        "We want to have at least 5, 6 clusters so we won't take 2 or 3 clusters even though they have the highest silhouette scores, 8 clusters would fit the best here."
      ]
    },
    {
      "cell_type": "code",
      "metadata": {
        "id": "GJwG_YicMCp-",
        "colab_type": "code",
        "colab": {}
      },
      "source": [
        "kmeans = KMeans(init='k-means++', n_clusters = 8, n_init=30, random_state=0)\n",
        "kmeans.fit(X_final_std_scale)\n",
        "clusters = kmeans.predict(X_final_std_scale)"
      ],
      "execution_count": null,
      "outputs": []
    },
    {
      "cell_type": "code",
      "metadata": {
        "id": "V3r--xCoMLW6",
        "colab_type": "code",
        "colab": {}
      },
      "source": [
        "plt.figure(figsize = (20,8))\n",
        "n, bins, patches = plt.hist(clusters, bins=8)\n",
        "plt.xlabel(\"Cluster\")\n",
        "plt.ylabel(\"No.of Customers\")\n",
        "plt.title(\"Number of customers per cluster\")\n",
        "plt.xticks([rect.get_x()+ rect.get_width() / 2 for rect in patches], [\"Cluster {}\".format(x) for x in range(8)])\n",
        "\n",
        "for rect in patches:\n",
        "    y_value = rect.get_height()\n",
        "    x_value = rect.get_x() + rect.get_width() / 2\n",
        "\n",
        "    space = 5\n",
        "    va = 'bottom'\n",
        "    label = str(int(y_value))\n",
        "    \n",
        "    plt.annotate(\n",
        "        label,                      \n",
        "        (x_value, y_value),         \n",
        "        xytext=(0, space),          \n",
        "        textcoords=\"offset points\", \n",
        "        ha='center',                \n",
        "        va=va)"
      ],
      "execution_count": null,
      "outputs": []
    },
    {
      "cell_type": "code",
      "metadata": {
        "id": "sChTNdT4MRuC",
        "colab_type": "code",
        "colab": {}
      },
      "source": [
        "df_grouped_final[\"cluster\"] = clusters"
      ],
      "execution_count": null,
      "outputs": []
    },
    {
      "cell_type": "code",
      "metadata": {
        "id": "2jq4lEYtMVSJ",
        "colab_type": "code",
        "colab": {}
      },
      "source": [
        "final_dataset = pd.concat([df_grouped_final, df2_grouped_final], axis = 1)\n",
        "final_dataset.head()"
      ],
      "execution_count": null,
      "outputs": []
    },
    {
      "cell_type": "code",
      "metadata": {
        "id": "PKaWJzw5MgNi",
        "colab_type": "code",
        "colab": {}
      },
      "source": [
        "final_dataset_V2 = final_dataset.reset_index()"
      ],
      "execution_count": null,
      "outputs": []
    },
    {
      "cell_type": "code",
      "metadata": {
        "id": "kalRaqZeMkW1",
        "colab_type": "code",
        "colab": {}
      },
      "source": [
        "# final_dataset_V2.to_csv(\"final_dataset_V2.csv\",index=False)"
      ],
      "execution_count": null,
      "outputs": []
    },
    {
      "cell_type": "code",
      "metadata": {
        "id": "3gszgY_0Mqhx",
        "colab_type": "code",
        "colab": {}
      },
      "source": [
        "with open('df_cleaned.pickle', 'wb') as f:\n",
        "    pickle.dump(data, f)"
      ],
      "execution_count": null,
      "outputs": []
    },
    {
      "cell_type": "markdown",
      "metadata": {
        "id": "5pdrMmn0MvWY",
        "colab_type": "text"
      },
      "source": [
        "Now Lets Interpret Clusters"
      ]
    },
    {
      "cell_type": "code",
      "metadata": {
        "id": "e7OJW-xnM08H",
        "colab_type": "code",
        "colab": {}
      },
      "source": [
        "tsne = TSNE(n_components=2)\n",
        "proj = tsne.fit_transform(X_final_std_scale)\n",
        "\n",
        "plt.figure(figsize=(10,10))\n",
        "plt.scatter(proj[:,0], proj[:,1], c=clusters)\n",
        "plt.title(\"Visualization of the clustering with TSNE\", fontsize=\"25\")"
      ],
      "execution_count": null,
      "outputs": []
    },
    {
      "cell_type": "markdown",
      "metadata": {
        "id": "E7ondeE8NFSj",
        "colab_type": "text"
      },
      "source": [
        "\n",
        "\n",
        "Graphically the clusters are distinctive enough. Let's take a closer look at the clusters that contain few customers."
      ]
    },
    {
      "cell_type": "markdown",
      "metadata": {
        "id": "26cfyYir7sYy",
        "colab_type": "text"
      },
      "source": [
        "**`Cluster 0`**"
      ]
    },
    {
      "cell_type": "code",
      "metadata": {
        "id": "Ckf0KCE8zyKh",
        "colab_type": "code",
        "colab": {}
      },
      "source": [
        "final_dataset[final_dataset['cluster']==0]"
      ],
      "execution_count": null,
      "outputs": []
    },
    {
      "cell_type": "code",
      "metadata": {
        "id": "JN1vs3ByACXV",
        "colab_type": "code",
        "colab": {}
      },
      "source": [
        "final_dataset[final_dataset['cluster']==0].mean()"
      ],
      "execution_count": null,
      "outputs": []
    },
    {
      "cell_type": "code",
      "metadata": {
        "id": "6enr62aLAF7B",
        "colab_type": "code",
        "colab": {}
      },
      "source": [
        "temp_final_df = final_dataset.reset_index()"
      ],
      "execution_count": null,
      "outputs": []
    },
    {
      "cell_type": "code",
      "metadata": {
        "id": "6Hr-Ky7CAIug",
        "colab_type": "code",
        "colab": {}
      },
      "source": [
        "cust0 = list(temp_final_df[temp_final_df['cluster']==0]['UserId'])"
      ],
      "execution_count": null,
      "outputs": []
    },
    {
      "cell_type": "code",
      "metadata": {
        "id": "0oh-y1Q4AMoc",
        "colab_type": "code",
        "colab": {}
      },
      "source": [
        "cluster0 = data[data['UserId'].isin(cust0)]\n",
        "cluster0[['NumberOfItemsPurchased', 'CostPerItem','sales', 'frequency', 'min_recency'\n",
        "         , 'monetary_value']].mean()"
      ],
      "execution_count": null,
      "outputs": []
    },
    {
      "cell_type": "code",
      "metadata": {
        "id": "qdxbWnwVDEj0",
        "colab_type": "code",
        "colab": {}
      },
      "source": [
        "cluster0['ItemDescription'].value_counts()[:10]"
      ],
      "execution_count": null,
      "outputs": []
    },
    {
      "cell_type": "code",
      "metadata": {
        "id": "tS3YYFqIDSzG",
        "colab_type": "code",
        "colab": {}
      },
      "source": [
        "custom_aggregation = {}\n",
        "custom_aggregation[\"Country\"] = lambda x:x.iloc[0]\n",
        "custom_aggregation[\"RFMScore\"] = lambda x:x.iloc[0]\n",
        "\n",
        "cluster0_grouped = cluster0.groupby(\"UserId\").agg(custom_aggregation)"
      ],
      "execution_count": null,
      "outputs": []
    },
    {
      "cell_type": "code",
      "metadata": {
        "id": "XSrV6roXDZHD",
        "colab_type": "code",
        "colab": {}
      },
      "source": [
        "cluster0_grouped['RFMScore'].value_counts()"
      ],
      "execution_count": null,
      "outputs": []
    },
    {
      "cell_type": "code",
      "metadata": {
        "id": "ugxoGvhNDdTo",
        "colab_type": "code",
        "colab": {}
      },
      "source": [
        "cluster0_grouped['Country'].value_counts()"
      ],
      "execution_count": null,
      "outputs": []
    },
    {
      "cell_type": "code",
      "metadata": {
        "id": "6bo9CchkTJDM",
        "colab_type": "code",
        "colab": {}
      },
      "source": [
        "cluster0['Month'].value_counts()"
      ],
      "execution_count": null,
      "outputs": []
    },
    {
      "cell_type": "code",
      "metadata": {
        "id": "9NfjHN-mTcCG",
        "colab_type": "code",
        "colab": {}
      },
      "source": [
        "cluster0['Hour'].value_counts()"
      ],
      "execution_count": null,
      "outputs": []
    },
    {
      "cell_type": "code",
      "metadata": {
        "id": "90smrpi3Tpf-",
        "colab_type": "code",
        "colab": {}
      },
      "source": [
        "cluster0['Weekday'].value_counts()"
      ],
      "execution_count": null,
      "outputs": []
    },
    {
      "cell_type": "markdown",
      "metadata": {
        "colab_type": "text",
        "id": "mV-xECJ6dBEE"
      },
      "source": [
        "**`Cluster 1`**"
      ]
    },
    {
      "cell_type": "code",
      "metadata": {
        "colab_type": "code",
        "id": "xnFaxcnAdBEN",
        "colab": {}
      },
      "source": [
        "final_dataset[final_dataset['cluster']==1]"
      ],
      "execution_count": null,
      "outputs": []
    },
    {
      "cell_type": "code",
      "metadata": {
        "colab_type": "code",
        "id": "qSZDdJeldBEo",
        "colab": {}
      },
      "source": [
        "final_dataset[final_dataset['cluster']==1].mean()"
      ],
      "execution_count": null,
      "outputs": []
    },
    {
      "cell_type": "code",
      "metadata": {
        "colab_type": "code",
        "id": "TbmAv6yUdBE8",
        "colab": {}
      },
      "source": [
        "temp_final_df = final_dataset.reset_index()"
      ],
      "execution_count": null,
      "outputs": []
    },
    {
      "cell_type": "code",
      "metadata": {
        "colab_type": "code",
        "id": "jkb_H6kUdBFa",
        "colab": {}
      },
      "source": [
        "cust1 = list(temp_final_df[temp_final_df['cluster']==1]['UserId'])"
      ],
      "execution_count": null,
      "outputs": []
    },
    {
      "cell_type": "code",
      "metadata": {
        "colab_type": "code",
        "id": "f2APzlX4dBFp",
        "colab": {}
      },
      "source": [
        "cluster1 = data[data['UserId'].isin(cust1)]\n",
        "cluster1[['NumberOfItemsPurchased', 'CostPerItem','sales', 'frequency', 'min_recency'\n",
        "         , 'monetary_value']].mean()"
      ],
      "execution_count": null,
      "outputs": []
    },
    {
      "cell_type": "code",
      "metadata": {
        "colab_type": "code",
        "id": "68DU8kNIdBF0",
        "colab": {}
      },
      "source": [
        "cluster1['ItemDescription'].value_counts()[:10]"
      ],
      "execution_count": null,
      "outputs": []
    },
    {
      "cell_type": "code",
      "metadata": {
        "colab_type": "code",
        "id": "SDQ0MtrqdBGB",
        "colab": {}
      },
      "source": [
        "custom_aggregation = {}\n",
        "custom_aggregation[\"Country\"] = lambda x:x.iloc[0]\n",
        "custom_aggregation[\"RFMScore\"] = lambda x:x.iloc[0]\n",
        "\n",
        "cluster1_grouped = cluster1.groupby(\"UserId\").agg(custom_aggregation)"
      ],
      "execution_count": null,
      "outputs": []
    },
    {
      "cell_type": "code",
      "metadata": {
        "colab_type": "code",
        "id": "aLogU26ydBGM",
        "colab": {}
      },
      "source": [
        "cluster1_grouped['RFMScore'].value_counts()"
      ],
      "execution_count": null,
      "outputs": []
    },
    {
      "cell_type": "code",
      "metadata": {
        "colab_type": "code",
        "id": "1nghC6g0dBGa",
        "colab": {}
      },
      "source": [
        "cluster1_grouped['Country'].value_counts()"
      ],
      "execution_count": null,
      "outputs": []
    },
    {
      "cell_type": "code",
      "metadata": {
        "colab_type": "code",
        "id": "Otj4KjSGdBGm",
        "colab": {}
      },
      "source": [
        "cluster1['Month'].value_counts()"
      ],
      "execution_count": null,
      "outputs": []
    },
    {
      "cell_type": "code",
      "metadata": {
        "colab_type": "code",
        "id": "KbztVCY7dBGv",
        "colab": {}
      },
      "source": [
        "cluster1['Hour'].value_counts()"
      ],
      "execution_count": null,
      "outputs": []
    },
    {
      "cell_type": "code",
      "metadata": {
        "colab_type": "code",
        "id": "upmd1J7KdBG9",
        "colab": {}
      },
      "source": [
        "cluster1['Weekday'].value_counts()"
      ],
      "execution_count": null,
      "outputs": []
    },
    {
      "cell_type": "markdown",
      "metadata": {
        "colab_type": "text",
        "id": "4KfRz0Z5dGts"
      },
      "source": [
        "**`Cluster 2`**"
      ]
    },
    {
      "cell_type": "code",
      "metadata": {
        "colab_type": "code",
        "id": "Gj95D3v-dGtz",
        "colab": {}
      },
      "source": [
        "final_dataset[final_dataset['cluster']==2]"
      ],
      "execution_count": null,
      "outputs": []
    },
    {
      "cell_type": "code",
      "metadata": {
        "colab_type": "code",
        "id": "uuHOnzPHdGuO",
        "colab": {}
      },
      "source": [
        "final_dataset[final_dataset['cluster']==2].mean()"
      ],
      "execution_count": null,
      "outputs": []
    },
    {
      "cell_type": "code",
      "metadata": {
        "colab_type": "code",
        "id": "tBOipujbdGuh",
        "colab": {}
      },
      "source": [
        "temp_final_df = final_dataset.reset_index()"
      ],
      "execution_count": null,
      "outputs": []
    },
    {
      "cell_type": "code",
      "metadata": {
        "colab_type": "code",
        "id": "UcWozrOIdGvA",
        "colab": {}
      },
      "source": [
        "cust2 = list(temp_final_df[temp_final_df['cluster']==2]['UserId'])"
      ],
      "execution_count": null,
      "outputs": []
    },
    {
      "cell_type": "code",
      "metadata": {
        "colab_type": "code",
        "id": "L8eh7U5HdGvM",
        "colab": {}
      },
      "source": [
        "cluster2 = data[data['UserId'].isin(cust0)]\n",
        "cluster2[['NumberOfItemsPurchased', 'CostPerItem','sales', 'frequency', 'min_recency'\n",
        "         , 'monetary_value']].mean()"
      ],
      "execution_count": null,
      "outputs": []
    },
    {
      "cell_type": "code",
      "metadata": {
        "colab_type": "code",
        "id": "zb17B02jdGvY",
        "colab": {}
      },
      "source": [
        "cluster2['ItemDescription'].value_counts()[:10]"
      ],
      "execution_count": null,
      "outputs": []
    },
    {
      "cell_type": "code",
      "metadata": {
        "colab_type": "code",
        "id": "3m6Ftg8HdGvk",
        "colab": {}
      },
      "source": [
        "custom_aggregation = {}\n",
        "custom_aggregation[\"Country\"] = lambda x:x.iloc[0]\n",
        "custom_aggregation[\"RFMScore\"] = lambda x:x.iloc[0]\n",
        "\n",
        "cluster2_grouped = cluster2.groupby(\"UserId\").agg(custom_aggregation)"
      ],
      "execution_count": null,
      "outputs": []
    },
    {
      "cell_type": "code",
      "metadata": {
        "colab_type": "code",
        "id": "_DOapkYBdGvw",
        "colab": {}
      },
      "source": [
        "cluster2_grouped['RFMScore'].value_counts()"
      ],
      "execution_count": null,
      "outputs": []
    },
    {
      "cell_type": "code",
      "metadata": {
        "colab_type": "code",
        "id": "xcRE3a_vdGv6",
        "colab": {}
      },
      "source": [
        "cluster2_grouped['Country'].value_counts()"
      ],
      "execution_count": null,
      "outputs": []
    },
    {
      "cell_type": "code",
      "metadata": {
        "colab_type": "code",
        "id": "U0GlCM8DdGwG",
        "colab": {}
      },
      "source": [
        "cluster2['Month'].value_counts()"
      ],
      "execution_count": null,
      "outputs": []
    },
    {
      "cell_type": "code",
      "metadata": {
        "colab_type": "code",
        "id": "xrPl_dBldGwP",
        "colab": {}
      },
      "source": [
        "cluster2['Hour'].value_counts()"
      ],
      "execution_count": null,
      "outputs": []
    },
    {
      "cell_type": "code",
      "metadata": {
        "colab_type": "code",
        "id": "RIha7ZsldGwY",
        "colab": {}
      },
      "source": [
        "cluster2['Weekday'].value_counts()"
      ],
      "execution_count": null,
      "outputs": []
    },
    {
      "cell_type": "markdown",
      "metadata": {
        "colab_type": "text",
        "id": "Y-YgwUsidJt6"
      },
      "source": [
        "**`Cluster 3`**"
      ]
    },
    {
      "cell_type": "code",
      "metadata": {
        "colab_type": "code",
        "id": "3yrfRmJgdJt9",
        "colab": {}
      },
      "source": [
        "final_dataset[final_dataset['cluster']==3]"
      ],
      "execution_count": null,
      "outputs": []
    },
    {
      "cell_type": "code",
      "metadata": {
        "colab_type": "code",
        "id": "PzeE_sZcdJuL",
        "colab": {}
      },
      "source": [
        "final_dataset[final_dataset['cluster']==3].mean()"
      ],
      "execution_count": null,
      "outputs": []
    },
    {
      "cell_type": "code",
      "metadata": {
        "colab_type": "code",
        "id": "SWJJij5ldJuZ",
        "colab": {}
      },
      "source": [
        "temp_final_df = final_dataset.reset_index()"
      ],
      "execution_count": null,
      "outputs": []
    },
    {
      "cell_type": "code",
      "metadata": {
        "colab_type": "code",
        "id": "TGcfcQ4XdJu2",
        "colab": {}
      },
      "source": [
        "cust3 = list(temp_final_df[temp_final_df['cluster']==3]['UserId'])"
      ],
      "execution_count": null,
      "outputs": []
    },
    {
      "cell_type": "code",
      "metadata": {
        "colab_type": "code",
        "id": "Jt5ghj_tdJvB",
        "colab": {}
      },
      "source": [
        "cluster3 = data[data['UserId'].isin(cust3)]\n",
        "cluster3[['NumberOfItemsPurchased', 'CostPerItem','sales', 'frequency', 'min_recency'\n",
        "         , 'monetary_value']].mean()"
      ],
      "execution_count": null,
      "outputs": []
    },
    {
      "cell_type": "code",
      "metadata": {
        "colab_type": "code",
        "id": "Ysb5utsPdJvL",
        "colab": {}
      },
      "source": [
        "cluster3['ItemDescription'].value_counts()[:10]"
      ],
      "execution_count": null,
      "outputs": []
    },
    {
      "cell_type": "code",
      "metadata": {
        "colab_type": "code",
        "id": "MHv94NGSdJvU",
        "colab": {}
      },
      "source": [
        "custom_aggregation = {}\n",
        "custom_aggregation[\"Country\"] = lambda x:x.iloc[0]\n",
        "custom_aggregation[\"RFMScore\"] = lambda x:x.iloc[0]\n",
        "\n",
        "cluster3_grouped = cluster3.groupby(\"UserId\").agg(custom_aggregation)"
      ],
      "execution_count": null,
      "outputs": []
    },
    {
      "cell_type": "code",
      "metadata": {
        "colab_type": "code",
        "id": "ZfFbBs0NdJvf",
        "colab": {}
      },
      "source": [
        "cluster3_grouped['RFMScore'].value_counts()"
      ],
      "execution_count": null,
      "outputs": []
    },
    {
      "cell_type": "code",
      "metadata": {
        "colab_type": "code",
        "id": "8Wpi1RjQdJvo",
        "colab": {}
      },
      "source": [
        "cluster3_grouped['Country'].value_counts()"
      ],
      "execution_count": null,
      "outputs": []
    },
    {
      "cell_type": "code",
      "metadata": {
        "colab_type": "code",
        "id": "3mpkgqA-dJvv",
        "colab": {}
      },
      "source": [
        "cluster3['Month'].value_counts()"
      ],
      "execution_count": null,
      "outputs": []
    },
    {
      "cell_type": "code",
      "metadata": {
        "colab_type": "code",
        "id": "Z2h0vfeodJv8",
        "colab": {}
      },
      "source": [
        "cluster3['Hour'].value_counts()"
      ],
      "execution_count": null,
      "outputs": []
    },
    {
      "cell_type": "code",
      "metadata": {
        "colab_type": "code",
        "id": "rMsKu7MkdJwG",
        "colab": {}
      },
      "source": [
        "cluster3['Weekday'].value_counts()"
      ],
      "execution_count": null,
      "outputs": []
    },
    {
      "cell_type": "markdown",
      "metadata": {
        "colab_type": "text",
        "id": "RxoFzXMAdNRC"
      },
      "source": [
        "**`Cluster 4`**"
      ]
    },
    {
      "cell_type": "code",
      "metadata": {
        "colab_type": "code",
        "id": "xU55yQVFdNRL",
        "colab": {}
      },
      "source": [
        "final_dataset[final_dataset['cluster']==4]"
      ],
      "execution_count": null,
      "outputs": []
    },
    {
      "cell_type": "code",
      "metadata": {
        "colab_type": "code",
        "id": "1-k7ZZf6dNRr",
        "colab": {}
      },
      "source": [
        "final_dataset[final_dataset['cluster']==4].mean()"
      ],
      "execution_count": null,
      "outputs": []
    },
    {
      "cell_type": "code",
      "metadata": {
        "colab_type": "code",
        "id": "4C75rIrTdNR_",
        "colab": {}
      },
      "source": [
        "temp_final_df = final_dataset.reset_index()"
      ],
      "execution_count": null,
      "outputs": []
    },
    {
      "cell_type": "code",
      "metadata": {
        "colab_type": "code",
        "id": "ePfwVy4jdNSh",
        "colab": {}
      },
      "source": [
        "cust4 = list(temp_final_df[temp_final_df['cluster']==4]['UserId'])"
      ],
      "execution_count": null,
      "outputs": []
    },
    {
      "cell_type": "code",
      "metadata": {
        "colab_type": "code",
        "id": "Y9hN2iwBdNSu",
        "colab": {}
      },
      "source": [
        "cluster4 = data[data['UserId'].isin(cust4)]\n",
        "cluster4[['NumberOfItemsPurchased', 'CostPerItem','sales', 'frequency', 'min_recency'\n",
        "         , 'monetary_value']].mean()"
      ],
      "execution_count": null,
      "outputs": []
    },
    {
      "cell_type": "code",
      "metadata": {
        "colab_type": "code",
        "id": "oIYrZq6bdNS6",
        "colab": {}
      },
      "source": [
        "cluster4['ItemDescription'].value_counts()[:10]"
      ],
      "execution_count": null,
      "outputs": []
    },
    {
      "cell_type": "code",
      "metadata": {
        "colab_type": "code",
        "id": "q8wfZ7uzdNTH",
        "colab": {}
      },
      "source": [
        "custom_aggregation = {}\n",
        "custom_aggregation[\"Country\"] = lambda x:x.iloc[0]\n",
        "custom_aggregation[\"RFMScore\"] = lambda x:x.iloc[0]\n",
        "\n",
        "cluster4_grouped = cluster4.groupby(\"UserId\").agg(custom_aggregation)"
      ],
      "execution_count": null,
      "outputs": []
    },
    {
      "cell_type": "code",
      "metadata": {
        "colab_type": "code",
        "id": "sGmeIbsldNTP",
        "colab": {}
      },
      "source": [
        "cluster4_grouped['RFMScore'].value_counts()"
      ],
      "execution_count": null,
      "outputs": []
    },
    {
      "cell_type": "code",
      "metadata": {
        "colab_type": "code",
        "id": "ECu7sj8WdNTb",
        "colab": {}
      },
      "source": [
        "cluster4_grouped['Country'].value_counts()"
      ],
      "execution_count": null,
      "outputs": []
    },
    {
      "cell_type": "code",
      "metadata": {
        "colab_type": "code",
        "id": "yyNZtHgddNTo",
        "colab": {}
      },
      "source": [
        "cluster4['Month'].value_counts()"
      ],
      "execution_count": null,
      "outputs": []
    },
    {
      "cell_type": "code",
      "metadata": {
        "colab_type": "code",
        "id": "EjbDKnygdNTx",
        "colab": {}
      },
      "source": [
        "cluster4['Hour'].value_counts()"
      ],
      "execution_count": null,
      "outputs": []
    },
    {
      "cell_type": "code",
      "metadata": {
        "colab_type": "code",
        "id": "WQCqWIPOdNT6",
        "colab": {}
      },
      "source": [
        "cluster4['Weekday'].value_counts()"
      ],
      "execution_count": null,
      "outputs": []
    },
    {
      "cell_type": "markdown",
      "metadata": {
        "colab_type": "text",
        "id": "ip_2WH3edR7x"
      },
      "source": [
        "**`Cluster 5`**"
      ]
    },
    {
      "cell_type": "code",
      "metadata": {
        "colab_type": "code",
        "id": "5S7Svtq_dR75",
        "colab": {}
      },
      "source": [
        "final_dataset[final_dataset['cluster']==5]"
      ],
      "execution_count": null,
      "outputs": []
    },
    {
      "cell_type": "code",
      "metadata": {
        "colab_type": "code",
        "id": "C6NlHXqAdR8W",
        "colab": {}
      },
      "source": [
        "final_dataset[final_dataset['cluster']==5].mean()"
      ],
      "execution_count": null,
      "outputs": []
    },
    {
      "cell_type": "code",
      "metadata": {
        "colab_type": "code",
        "id": "rLKjEOjadR8r",
        "colab": {}
      },
      "source": [
        "temp_final_df = final_dataset.reset_index()"
      ],
      "execution_count": null,
      "outputs": []
    },
    {
      "cell_type": "code",
      "metadata": {
        "colab_type": "code",
        "id": "42KVgoFndR9O",
        "colab": {}
      },
      "source": [
        "cust5 = list(temp_final_df[temp_final_df['cluster']==5]['UserId'])"
      ],
      "execution_count": null,
      "outputs": []
    },
    {
      "cell_type": "code",
      "metadata": {
        "colab_type": "code",
        "id": "w4WjXg2BdR9d",
        "colab": {}
      },
      "source": [
        "cluster5 = data[data['UserId'].isin(cust5)]\n",
        "cluster5[['NumberOfItemsPurchased', 'CostPerItem','sales', 'frequency', 'min_recency'\n",
        "         , 'monetary_value']].mean()"
      ],
      "execution_count": null,
      "outputs": []
    },
    {
      "cell_type": "code",
      "metadata": {
        "colab_type": "code",
        "id": "L8CzmUykdR9r",
        "colab": {}
      },
      "source": [
        "cluster5['ItemDescription'].value_counts()[:10]"
      ],
      "execution_count": null,
      "outputs": []
    },
    {
      "cell_type": "code",
      "metadata": {
        "colab_type": "code",
        "id": "RF3j9ktKdR94",
        "colab": {}
      },
      "source": [
        "custom_aggregation = {}\n",
        "custom_aggregation[\"Country\"] = lambda x:x.iloc[0]\n",
        "custom_aggregation[\"RFMScore\"] = lambda x:x.iloc[0]\n",
        "\n",
        "cluster5_grouped = cluster5.groupby(\"UserId\").agg(custom_aggregation)"
      ],
      "execution_count": null,
      "outputs": []
    },
    {
      "cell_type": "code",
      "metadata": {
        "colab_type": "code",
        "id": "mgWQSuGOdR-C",
        "colab": {}
      },
      "source": [
        "cluster5_grouped['RFMScore'].value_counts()"
      ],
      "execution_count": null,
      "outputs": []
    },
    {
      "cell_type": "code",
      "metadata": {
        "colab_type": "code",
        "id": "2NSSWAo-dR-M",
        "colab": {}
      },
      "source": [
        "cluster5_grouped['Country'].value_counts()"
      ],
      "execution_count": null,
      "outputs": []
    },
    {
      "cell_type": "code",
      "metadata": {
        "colab_type": "code",
        "id": "yArNJyJ5dR-Y",
        "colab": {}
      },
      "source": [
        "cluster5['Month'].value_counts()"
      ],
      "execution_count": null,
      "outputs": []
    },
    {
      "cell_type": "code",
      "metadata": {
        "colab_type": "code",
        "id": "3CzIFKEpdR-h",
        "colab": {}
      },
      "source": [
        "cluster5['Hour'].value_counts()"
      ],
      "execution_count": null,
      "outputs": []
    },
    {
      "cell_type": "code",
      "metadata": {
        "colab_type": "code",
        "id": "zA63Hi-OdR-u",
        "colab": {}
      },
      "source": [
        "cluster5['Weekday'].value_counts()"
      ],
      "execution_count": null,
      "outputs": []
    },
    {
      "cell_type": "markdown",
      "metadata": {
        "colab_type": "text",
        "id": "aLqjxOUGdV5q"
      },
      "source": [
        "**`Cluster 6`**"
      ]
    },
    {
      "cell_type": "code",
      "metadata": {
        "colab_type": "code",
        "id": "igxFPfkUdV5z",
        "colab": {}
      },
      "source": [
        "final_dataset[final_dataset['cluster']==6]"
      ],
      "execution_count": null,
      "outputs": []
    },
    {
      "cell_type": "code",
      "metadata": {
        "colab_type": "code",
        "id": "byBhQc5RdV6V",
        "colab": {}
      },
      "source": [
        "final_dataset[final_dataset['cluster']==6].mean()"
      ],
      "execution_count": null,
      "outputs": []
    },
    {
      "cell_type": "code",
      "metadata": {
        "colab_type": "code",
        "id": "A1tIH344dV6s",
        "colab": {}
      },
      "source": [
        "temp_final_df = final_dataset.reset_index()"
      ],
      "execution_count": null,
      "outputs": []
    },
    {
      "cell_type": "code",
      "metadata": {
        "colab_type": "code",
        "id": "Mm-5JmTadV7V",
        "colab": {}
      },
      "source": [
        "cust6 = list(temp_final_df[temp_final_df['cluster']==6]['UserId'])"
      ],
      "execution_count": null,
      "outputs": []
    },
    {
      "cell_type": "code",
      "metadata": {
        "colab_type": "code",
        "id": "tyyBJT_gdV7k",
        "colab": {}
      },
      "source": [
        "cluster6 = data[data['UserId'].isin(cust6)]\n",
        "cluster6[['NumberOfItemsPurchased', 'CostPerItem','sales', 'frequency', 'min_recency'\n",
        "         , 'monetary_value']].mean()"
      ],
      "execution_count": null,
      "outputs": []
    },
    {
      "cell_type": "code",
      "metadata": {
        "colab_type": "code",
        "id": "BSgHMZXpdV7y",
        "colab": {}
      },
      "source": [
        "cluster6['ItemDescription'].value_counts()[:10]"
      ],
      "execution_count": null,
      "outputs": []
    },
    {
      "cell_type": "code",
      "metadata": {
        "colab_type": "code",
        "id": "ksf5-jPYdV8C",
        "colab": {}
      },
      "source": [
        "custom_aggregation = {}\n",
        "custom_aggregation[\"Country\"] = lambda x:x.iloc[0]\n",
        "custom_aggregation[\"RFMScore\"] = lambda x:x.iloc[0]\n",
        "\n",
        "cluster6_grouped = cluster6.groupby(\"UserId\").agg(custom_aggregation)"
      ],
      "execution_count": null,
      "outputs": []
    },
    {
      "cell_type": "code",
      "metadata": {
        "colab_type": "code",
        "id": "aK3SgT-7dV8L",
        "colab": {}
      },
      "source": [
        "cluster6_grouped['RFMScore'].value_counts()"
      ],
      "execution_count": null,
      "outputs": []
    },
    {
      "cell_type": "code",
      "metadata": {
        "colab_type": "code",
        "id": "GCTHlNZAdV8U",
        "colab": {}
      },
      "source": [
        "cluster6_grouped['Country'].value_counts()"
      ],
      "execution_count": null,
      "outputs": []
    },
    {
      "cell_type": "code",
      "metadata": {
        "colab_type": "code",
        "id": "0AEyYnA1dV8f",
        "colab": {}
      },
      "source": [
        "cluster6['Month'].value_counts()"
      ],
      "execution_count": null,
      "outputs": []
    },
    {
      "cell_type": "code",
      "metadata": {
        "colab_type": "code",
        "id": "Z_gtXi72dV8q",
        "colab": {}
      },
      "source": [
        "cluster6['Hour'].value_counts()"
      ],
      "execution_count": null,
      "outputs": []
    },
    {
      "cell_type": "code",
      "metadata": {
        "colab_type": "code",
        "id": "p_bgEu51dV8z",
        "colab": {}
      },
      "source": [
        "cluster6['Weekday'].value_counts()"
      ],
      "execution_count": null,
      "outputs": []
    },
    {
      "cell_type": "markdown",
      "metadata": {
        "colab_type": "text",
        "id": "kYxcGfX5dY8Y"
      },
      "source": [
        "**`Cluster 7`**"
      ]
    },
    {
      "cell_type": "code",
      "metadata": {
        "colab_type": "code",
        "id": "iDSiJfzddY8h",
        "colab": {}
      },
      "source": [
        "final_dataset[final_dataset['cluster']==7]"
      ],
      "execution_count": null,
      "outputs": []
    },
    {
      "cell_type": "code",
      "metadata": {
        "colab_type": "code",
        "id": "yAhIM9ksdY8_",
        "colab": {}
      },
      "source": [
        "final_dataset[final_dataset['cluster']==7].mean()"
      ],
      "execution_count": null,
      "outputs": []
    },
    {
      "cell_type": "code",
      "metadata": {
        "colab_type": "code",
        "id": "EUyZv0PadY9W",
        "colab": {}
      },
      "source": [
        "temp_final_df = final_dataset.reset_index()"
      ],
      "execution_count": null,
      "outputs": []
    },
    {
      "cell_type": "code",
      "metadata": {
        "colab_type": "code",
        "id": "MRUm21FOdY98",
        "colab": {}
      },
      "source": [
        "cust7 = list(temp_final_df[temp_final_df['cluster']==7]['UserId'])"
      ],
      "execution_count": null,
      "outputs": []
    },
    {
      "cell_type": "code",
      "metadata": {
        "colab_type": "code",
        "id": "UcTpsZBQdY-P",
        "colab": {}
      },
      "source": [
        "cluster7 = data[data['UserId'].isin(cust7)]\n",
        "cluster7[['NumberOfItemsPurchased', 'CostPerItem','sales', 'frequency', 'min_recency'\n",
        "         , 'monetary_value']].mean()"
      ],
      "execution_count": null,
      "outputs": []
    },
    {
      "cell_type": "code",
      "metadata": {
        "colab_type": "code",
        "id": "bWOXN0JldY-b",
        "colab": {}
      },
      "source": [
        "cluster7['ItemDescription'].value_counts()[:10]"
      ],
      "execution_count": null,
      "outputs": []
    },
    {
      "cell_type": "code",
      "metadata": {
        "colab_type": "code",
        "id": "fQtj19s3dY-p",
        "colab": {}
      },
      "source": [
        "custom_aggregation = {}\n",
        "custom_aggregation[\"Country\"] = lambda x:x.iloc[0]\n",
        "custom_aggregation[\"RFMScore\"] = lambda x:x.iloc[0]\n",
        "\n",
        "cluster7_grouped = cluster7.groupby(\"UserId\").agg(custom_aggregation)"
      ],
      "execution_count": null,
      "outputs": []
    },
    {
      "cell_type": "code",
      "metadata": {
        "colab_type": "code",
        "id": "yLk5JAM0dY-1",
        "colab": {}
      },
      "source": [
        "cluster7_grouped['RFMScore'].value_counts()"
      ],
      "execution_count": null,
      "outputs": []
    },
    {
      "cell_type": "code",
      "metadata": {
        "colab_type": "code",
        "id": "u8DDnVKJdY_D",
        "colab": {}
      },
      "source": [
        "cluster7_grouped['Country'].value_counts()"
      ],
      "execution_count": null,
      "outputs": []
    },
    {
      "cell_type": "code",
      "metadata": {
        "colab_type": "code",
        "id": "VG35wnXwdY_R",
        "colab": {}
      },
      "source": [
        "cluster7['Month'].value_counts()"
      ],
      "execution_count": null,
      "outputs": []
    },
    {
      "cell_type": "code",
      "metadata": {
        "colab_type": "code",
        "id": "rwlEwkuudY_b",
        "colab": {}
      },
      "source": [
        "cluster7['Hour'].value_counts()"
      ],
      "execution_count": null,
      "outputs": []
    },
    {
      "cell_type": "code",
      "metadata": {
        "colab_type": "code",
        "id": "gvT_W_KMdY_k",
        "colab": {}
      },
      "source": [
        "cluster7['Weekday'].value_counts()"
      ],
      "execution_count": null,
      "outputs": []
    },
    {
      "cell_type": "code",
      "metadata": {
        "id": "chnjfUV7n4J_",
        "colab_type": "code",
        "colab": {}
      },
      "source": [
        "cluster0_={'cluster0':cluster0['UserId'].dropna().unique()\n",
        "          }\n",
        "cluster0_=pd.DataFrame(cluster0_,columns=['cluster0'])\n",
        "\n",
        "cluster1_={'cluster1':cluster1['UserId'].dropna().unique()\n",
        "          }\n",
        "cluster1_=pd.DataFrame(cluster1_,columns=['cluster1'])\n",
        "\n",
        "\n",
        "cluster2_={'cluster2':cluster2['UserId'].dropna().unique()\n",
        "          }\n",
        "cluster2_=pd.DataFrame(cluster2_,columns=['cluster2'])\n",
        "\n",
        "\n",
        "cluster3_={'cluster3':cluster3['UserId'].dropna().unique()\n",
        "          }\n",
        "cluster3_=pd.DataFrame(cluster3_,columns=['cluster3'])\n",
        "\n",
        "\n",
        "\n",
        "cluster4_={'cluster4':cluster4['UserId'].dropna().unique()\n",
        "          }\n",
        "cluster4_=pd.DataFrame(cluster4_,columns=['cluster4'])\n",
        "\n",
        "\n",
        "cluster5_={'cluster5':cluster5['UserId'].dropna().unique()\n",
        "          }\n",
        "cluster5_=pd.DataFrame(cluster5_,columns=['cluster5'])\n",
        "\n",
        "\n",
        "\n",
        "cluster6_={'cluster6':cluster6['UserId'].dropna().unique()\n",
        "          }\n",
        "cluster6_=pd.DataFrame(cluster6_,columns=['cluster6'])\n",
        "\n",
        "\n",
        "\n",
        "cluster7_={'cluster7':cluster7['UserId'].dropna().unique()\n",
        "          }\n",
        "cluster7_=pd.DataFrame(cluster7_,columns=['cluster7'])\n",
        "\n",
        "\n",
        "# cluster0_.to_csv('cluster0-Best_Customers.csv',index=False)\n",
        "# cluster1_.to_csv('cluster1-Lost_Cheap_Customers.csv',index=False)\n",
        "# cluster2_.to_csv('cluster2-Bestest_Customer.csv',index=False)\n",
        "# cluster3_.to_csv('cluster3-Bestest_Customers.csv',index=False)\n",
        "# cluster4_.to_csv('cluster4-Lost_Customers.csv',index=False)\n",
        "# cluster5_.to_csv('cluster5-Foreign_NonUK_Customers.csv',index=False)\n",
        "# cluster6_.to_csv('cluster6_Big_Spenders.csv',index=False)\n",
        "# cluster7_.to_csv('cluster7-Loyal_and_Big_Spenders.csv',index=False)\n",
        "\n",
        "\n",
        "# print(\"All clusters are saved as CSV files\")"
      ],
      "execution_count": null,
      "outputs": []
    }
  ]
}