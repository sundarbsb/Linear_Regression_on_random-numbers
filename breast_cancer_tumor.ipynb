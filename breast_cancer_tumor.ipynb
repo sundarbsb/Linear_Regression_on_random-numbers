{
  "nbformat": 4,
  "nbformat_minor": 0,
  "metadata": {
    "colab": {
      "name": "breast_cancer_tumor.ipynb",
      "provenance": [],
      "authorship_tag": "ABX9TyMEZABo4QMGfwlx3ohn3FUj",
      "include_colab_link": true
    },
    "kernelspec": {
      "name": "python3",
      "display_name": "Python 3"
    }
  },
  "cells": [
    {
      "cell_type": "markdown",
      "metadata": {
        "id": "view-in-github",
        "colab_type": "text"
      },
      "source": [
        "<a href=\"https://colab.research.google.com/github/sundarbsb/machine-Learning/blob/master/breast_cancer_tumor.ipynb\" target=\"_parent\"><img src=\"https://colab.research.google.com/assets/colab-badge.svg\" alt=\"Open In Colab\"/></a>"
      ]
    },
    {
      "cell_type": "code",
      "metadata": {
        "id": "SCqMonkEodhK",
        "colab_type": "code",
        "colab": {}
      },
      "source": [
        "def answer_one(): \n",
        "    import numpy as np\n",
        "    import pandas as pd\n",
        "    from sklearn.datasets import load_breast_cancer \n",
        "    cancer = load_breast_cancer()     \n",
        "    data = np.c_[cancer.data, cancer.target]\n",
        "    columns = np.append(cancer.feature_names, [\"target\"])\n",
        "    return pd.DataFrame(data, columns=columns)\n",
        "\n",
        "data=answer_one()\n",
        "# data.head()\n",
        "# data.isnull().sum()\n",
        "X=data.drop(['target'],axis=1)\n",
        "Y=data['target']"
      ],
      "execution_count": 70,
      "outputs": []
    },
    {
      "cell_type": "code",
      "metadata": {
        "id": "eoMokdjYuxK2",
        "colab_type": "code",
        "colab": {
          "base_uri": "https://localhost:8080/",
          "height": 36
        },
        "outputId": "100b02ed-141e-4ba8-a7d3-056b642140e8"
      },
      "source": [
        "from sklearn.model_selection import train_test_split\n",
        "X_train, X_test, Y_train, Y_test=train_test_split(X,Y)\n",
        "from sklearn.naive_bayes import GaussianNB\n",
        "from sklearn.metrics import accuracy_score\n",
        "model=GaussianNB()\n",
        "model.fit(X_train,Y_train)\n",
        "Y_p=model.predict(X_test)\n",
        "accuracy_score(Y_test,Y_p)"
      ],
      "execution_count": 71,
      "outputs": [
        {
          "output_type": "execute_result",
          "data": {
            "text/plain": [
              "0.9440559440559441"
            ]
          },
          "metadata": {
            "tags": []
          },
          "execution_count": 71
        }
      ]
    },
    {
      "cell_type": "code",
      "metadata": {
        "id": "585gkPjMwEEe",
        "colab_type": "code",
        "colab": {
          "base_uri": "https://localhost:8080/",
          "height": 36
        },
        "outputId": "f380b0f4-f6e2-41f8-f3aa-9979b42192d2"
      },
      "source": [
        "from sklearn.tree import DecisionTreeClassifier\n",
        "model=DecisionTreeClassifier()\n",
        "model.fit(X_train,Y_train)\n",
        "Y_p=model.predict(X_test)\n",
        "accuracy_score(Y_test,Y_p)"
      ],
      "execution_count": 72,
      "outputs": [
        {
          "output_type": "execute_result",
          "data": {
            "text/plain": [
              "0.9230769230769231"
            ]
          },
          "metadata": {
            "tags": []
          },
          "execution_count": 72
        }
      ]
    },
    {
      "cell_type": "code",
      "metadata": {
        "id": "9rs4s5lvwXrv",
        "colab_type": "code",
        "colab": {
          "base_uri": "https://localhost:8080/",
          "height": 36
        },
        "outputId": "26550ce2-7cee-4fd3-f74d-d68c08e720d5"
      },
      "source": [
        "from sklearn.ensemble import  RandomForestClassifier\n",
        "model=RandomForestClassifier(random_state=1,n_estimators=50)\n",
        "model.fit(X_train,Y_train)\n",
        "Y_p=model.predict(X_test)\n",
        "accuracy_score(Y_test,Y_p)"
      ],
      "execution_count": 73,
      "outputs": [
        {
          "output_type": "execute_result",
          "data": {
            "text/plain": [
              "0.965034965034965"
            ]
          },
          "metadata": {
            "tags": []
          },
          "execution_count": 73
        }
      ]
    },
    {
      "cell_type": "code",
      "metadata": {
        "id": "qnEeXwfKwlXu",
        "colab_type": "code",
        "colab": {
          "base_uri": "https://localhost:8080/",
          "height": 36
        },
        "outputId": "051aeb37-16a7-4be0-a2ff-dc413e8bcbaa"
      },
      "source": [
        "from sklearn.decomposition import PCA\n",
        "model=PCA(n_components=1)\n",
        "X_new=model.fit_transform(X)\n",
        "from sklearn.model_selection import train_test_split\n",
        "X_train, X_test, Y_train, Y_test=train_test_split(X_new,Y)\n",
        "from sklearn.naive_bayes import GaussianNB\n",
        "from sklearn.metrics import accuracy_score\n",
        "model=GaussianNB()\n",
        "model.fit(X_train,Y_train)\n",
        "Y_p=model.predict(X_test)\n",
        "accuracy_score(Y_test,Y_p)"
      ],
      "execution_count": 74,
      "outputs": [
        {
          "output_type": "execute_result",
          "data": {
            "text/plain": [
              "0.9370629370629371"
            ]
          },
          "metadata": {
            "tags": []
          },
          "execution_count": 74
        }
      ]
    },
    {
      "cell_type": "code",
      "metadata": {
        "id": "TafUwm_0xlpg",
        "colab_type": "code",
        "colab": {
          "base_uri": "https://localhost:8080/",
          "height": 36
        },
        "outputId": "89f5f2b8-c8fb-4ef6-a86c-8d8a3b9d9461"
      },
      "source": [
        "from sklearn.tree import DecisionTreeClassifier\n",
        "model=DecisionTreeClassifier()\n",
        "model.fit(X_train,Y_train)\n",
        "Y_p=model.predict(X_test)\n",
        "accuracy_score(Y_test,Y_p)"
      ],
      "execution_count": 75,
      "outputs": [
        {
          "output_type": "execute_result",
          "data": {
            "text/plain": [
              "0.8741258741258742"
            ]
          },
          "metadata": {
            "tags": []
          },
          "execution_count": 75
        }
      ]
    },
    {
      "cell_type": "code",
      "metadata": {
        "id": "hEfv9tupxo9d",
        "colab_type": "code",
        "colab": {
          "base_uri": "https://localhost:8080/",
          "height": 36
        },
        "outputId": "2a8ee1a1-8d44-4125-fb88-289cb26a0fa7"
      },
      "source": [
        "from sklearn.ensemble import  RandomForestClassifier\n",
        "model=RandomForestClassifier(random_state=1,n_estimators=100)\n",
        "model.fit(X_train,Y_train)\n",
        "Y_p=model.predict(X_test)\n",
        "accuracy_score(Y_test,Y_p)"
      ],
      "execution_count": 76,
      "outputs": [
        {
          "output_type": "execute_result",
          "data": {
            "text/plain": [
              "0.8741258741258742"
            ]
          },
          "metadata": {
            "tags": []
          },
          "execution_count": 76
        }
      ]
    }
  ]
}